{
 "cells": [
  {
   "cell_type": "markdown",
   "metadata": {},
   "source": [
    "###### Praveen Thinagarajan - praveen.thinagarajan@gmail.com - 512-888-2034"
   ]
  },
  {
   "cell_type": "markdown",
   "metadata": {},
   "source": [
    "# Podcast Analysis"
   ]
  },
  {
   "cell_type": "markdown",
   "metadata": {},
   "source": [
    "## Importing necessary packages for analysis"
   ]
  },
  {
   "cell_type": "code",
   "execution_count": 1,
   "metadata": {},
   "outputs": [
    {
     "name": "stderr",
     "output_type": "stream",
     "text": [
      "C:\\Users\\Praveen\\Anaconda3\\lib\\site-packages\\statsmodels\\compat\\pandas.py:56: FutureWarning: The pandas.core.datetools module is deprecated and will be removed in a future version. Please use the pandas.tseries module instead.\n",
      "  from pandas.core import datetools\n"
     ]
    }
   ],
   "source": [
    "# For data exploration\n",
    "import pandas as pd\n",
    "from sklearn.preprocessing import OneHotEncoder\n",
    "pd.set_option(\"display.max_rows\", None, \"display.max_columns\", None)\n",
    "import matplotlib.pyplot as plt \n",
    "plt.rc(\"font\", size=14)\n",
    "import seaborn as sns\n",
    "import numpy as np\n",
    "\n",
    "# For modeling and model validation\n",
    "import statsmodels.api as sm\n",
    "from sklearn.linear_model import LogisticRegression\n",
    "from sklearn import metrics\n",
    "from statsmodels.stats.outliers_influence import variance_inflation_factor\n",
    "from sklearn.model_selection import train_test_split\n",
    "from sklearn.metrics import confusion_matrix\n",
    "from sklearn.metrics import classification_report\n",
    "from sklearn.metrics import roc_auc_score\n",
    "from sklearn.metrics import roc_curve\n",
    "from sklearn.model_selection import cross_val_score\n",
    "\n",
    "# For data exporting\n",
    "import pickle"
   ]
  },
  {
   "cell_type": "markdown",
   "metadata": {},
   "source": [
    "# Step-1: Exploratory Data Analysis to get a feel of the dataset"
   ]
  },
  {
   "cell_type": "markdown",
   "metadata": {},
   "source": [
    "## Checking contents of dataset\n",
    "### Observations:\n",
    "* Dataset contains both numeric and categoric variables \n",
    "* Dataset contains variables for denoting member ID and target variable (Podcast users among mobile apps members) \n",
    "* ID variable: anon_person_id\n",
    "* Target variable: target\n",
    "* Categoric variables: state, marital_status, gender, income\n",
    "* Numeric variables: number_of_news_subs, age\n",
    "* Boolean variables: presence_of_child_ind, streaming_media_subs, streaming_entertainment_subs"
   ]
  },
  {
   "cell_type": "code",
   "execution_count": 2,
   "metadata": {},
   "outputs": [
    {
     "data": {
      "text/html": [
       "<div>\n",
       "<style>\n",
       "    .dataframe thead tr:only-child th {\n",
       "        text-align: right;\n",
       "    }\n",
       "\n",
       "    .dataframe thead th {\n",
       "        text-align: left;\n",
       "    }\n",
       "\n",
       "    .dataframe tbody tr th {\n",
       "        vertical-align: top;\n",
       "    }\n",
       "</style>\n",
       "<table border=\"1\" class=\"dataframe\">\n",
       "  <thead>\n",
       "    <tr style=\"text-align: right;\">\n",
       "      <th></th>\n",
       "      <th>anon_person_id</th>\n",
       "      <th>target</th>\n",
       "      <th>state</th>\n",
       "      <th>presence_of_child_ind</th>\n",
       "      <th>streaming_media_subs</th>\n",
       "      <th>streaming_entertainment_subs</th>\n",
       "      <th>marital_status</th>\n",
       "      <th>gender</th>\n",
       "      <th>income</th>\n",
       "      <th>number_of_news_subs</th>\n",
       "      <th>age</th>\n",
       "    </tr>\n",
       "  </thead>\n",
       "  <tbody>\n",
       "    <tr>\n",
       "      <th>0</th>\n",
       "      <td>1</td>\n",
       "      <td>0</td>\n",
       "      <td>CA</td>\n",
       "      <td>0</td>\n",
       "      <td>N</td>\n",
       "      <td>0</td>\n",
       "      <td>M</td>\n",
       "      <td>Female</td>\n",
       "      <td>$175k-199k</td>\n",
       "      <td>0</td>\n",
       "      <td>43.0</td>\n",
       "    </tr>\n",
       "    <tr>\n",
       "      <th>1</th>\n",
       "      <td>2</td>\n",
       "      <td>0</td>\n",
       "      <td>CA</td>\n",
       "      <td>0</td>\n",
       "      <td>N</td>\n",
       "      <td>0</td>\n",
       "      <td>U</td>\n",
       "      <td>Male</td>\n",
       "      <td>$225k-249k</td>\n",
       "      <td>0</td>\n",
       "      <td>90.0</td>\n",
       "    </tr>\n",
       "    <tr>\n",
       "      <th>2</th>\n",
       "      <td>3</td>\n",
       "      <td>1</td>\n",
       "      <td>CA</td>\n",
       "      <td>0</td>\n",
       "      <td>Y</td>\n",
       "      <td>1</td>\n",
       "      <td>S</td>\n",
       "      <td>Female</td>\n",
       "      <td>$150k-174k</td>\n",
       "      <td>0</td>\n",
       "      <td>46.0</td>\n",
       "    </tr>\n",
       "    <tr>\n",
       "      <th>3</th>\n",
       "      <td>4</td>\n",
       "      <td>0</td>\n",
       "      <td>CA</td>\n",
       "      <td>1</td>\n",
       "      <td>N</td>\n",
       "      <td>0</td>\n",
       "      <td>U</td>\n",
       "      <td>Female</td>\n",
       "      <td>$125k-149k</td>\n",
       "      <td>0</td>\n",
       "      <td>25.0</td>\n",
       "    </tr>\n",
       "    <tr>\n",
       "      <th>4</th>\n",
       "      <td>5</td>\n",
       "      <td>0</td>\n",
       "      <td>CA</td>\n",
       "      <td>0</td>\n",
       "      <td>N</td>\n",
       "      <td>0</td>\n",
       "      <td>U</td>\n",
       "      <td>Female</td>\n",
       "      <td>$175k-199k</td>\n",
       "      <td>0</td>\n",
       "      <td>62.0</td>\n",
       "    </tr>\n",
       "  </tbody>\n",
       "</table>\n",
       "</div>"
      ],
      "text/plain": [
       "   anon_person_id  target state  presence_of_child_ind streaming_media_subs  \\\n",
       "0               1       0    CA                      0                    N   \n",
       "1               2       0    CA                      0                    N   \n",
       "2               3       1    CA                      0                    Y   \n",
       "3               4       0    CA                      1                    N   \n",
       "4               5       0    CA                      0                    N   \n",
       "\n",
       "   streaming_entertainment_subs marital_status  gender      income  \\\n",
       "0                             0              M  Female  $175k-199k   \n",
       "1                             0              U    Male  $225k-249k   \n",
       "2                             1              S  Female  $150k-174k   \n",
       "3                             0              U  Female  $125k-149k   \n",
       "4                             0              U  Female  $175k-199k   \n",
       "\n",
       "   number_of_news_subs   age  \n",
       "0                    0  43.0  \n",
       "1                    0  90.0  \n",
       "2                    0  46.0  \n",
       "3                    0  25.0  \n",
       "4                    0  62.0  "
      ]
     },
     "execution_count": 2,
     "metadata": {},
     "output_type": "execute_result"
    }
   ],
   "source": [
    "ds_practical_data = pd.read_csv('ds_practical.txt', sep=\"|\")\n",
    "ds_practical_data.head(5)"
   ]
  },
  {
   "cell_type": "markdown",
   "metadata": {},
   "source": [
    "## Checking dataset counts and basic statistics for numeric variables\n",
    "### Observations:\n",
    "* Dataset contains 1 Million rows \n",
    "* Age has missing values \n",
    "* anon_person_id's max value is less than total data size indicating possible presence of duplicates"
   ]
  },
  {
   "cell_type": "code",
   "execution_count": 3,
   "metadata": {
    "scrolled": false
   },
   "outputs": [
    {
     "data": {
      "text/html": [
       "<div>\n",
       "<style>\n",
       "    .dataframe thead tr:only-child th {\n",
       "        text-align: right;\n",
       "    }\n",
       "\n",
       "    .dataframe thead th {\n",
       "        text-align: left;\n",
       "    }\n",
       "\n",
       "    .dataframe tbody tr th {\n",
       "        vertical-align: top;\n",
       "    }\n",
       "</style>\n",
       "<table border=\"1\" class=\"dataframe\">\n",
       "  <thead>\n",
       "    <tr style=\"text-align: right;\">\n",
       "      <th></th>\n",
       "      <th>anon_person_id</th>\n",
       "      <th>target</th>\n",
       "      <th>presence_of_child_ind</th>\n",
       "      <th>streaming_entertainment_subs</th>\n",
       "      <th>number_of_news_subs</th>\n",
       "      <th>age</th>\n",
       "    </tr>\n",
       "  </thead>\n",
       "  <tbody>\n",
       "    <tr>\n",
       "      <th>count</th>\n",
       "      <td>1000000.000000</td>\n",
       "      <td>1000000.000000</td>\n",
       "      <td>1000000.000000</td>\n",
       "      <td>1000000.000000</td>\n",
       "      <td>1000000.000000</td>\n",
       "      <td>980298.000000</td>\n",
       "    </tr>\n",
       "    <tr>\n",
       "      <th>mean</th>\n",
       "      <td>499500.750000</td>\n",
       "      <td>0.149743</td>\n",
       "      <td>0.144680</td>\n",
       "      <td>0.173690</td>\n",
       "      <td>0.205013</td>\n",
       "      <td>46.851937</td>\n",
       "    </tr>\n",
       "    <tr>\n",
       "      <th>std</th>\n",
       "      <td>288674.846352</td>\n",
       "      <td>0.356820</td>\n",
       "      <td>0.351778</td>\n",
       "      <td>0.378843</td>\n",
       "      <td>0.771099</td>\n",
       "      <td>15.018724</td>\n",
       "    </tr>\n",
       "    <tr>\n",
       "      <th>min</th>\n",
       "      <td>1.000000</td>\n",
       "      <td>0.000000</td>\n",
       "      <td>0.000000</td>\n",
       "      <td>0.000000</td>\n",
       "      <td>0.000000</td>\n",
       "      <td>19.000000</td>\n",
       "    </tr>\n",
       "    <tr>\n",
       "      <th>25%</th>\n",
       "      <td>249500.750000</td>\n",
       "      <td>0.000000</td>\n",
       "      <td>0.000000</td>\n",
       "      <td>0.000000</td>\n",
       "      <td>0.000000</td>\n",
       "      <td>40.000000</td>\n",
       "    </tr>\n",
       "    <tr>\n",
       "      <th>50%</th>\n",
       "      <td>499500.500000</td>\n",
       "      <td>0.000000</td>\n",
       "      <td>0.000000</td>\n",
       "      <td>0.000000</td>\n",
       "      <td>0.000000</td>\n",
       "      <td>45.000000</td>\n",
       "    </tr>\n",
       "    <tr>\n",
       "      <th>75%</th>\n",
       "      <td>749500.250000</td>\n",
       "      <td>0.000000</td>\n",
       "      <td>0.000000</td>\n",
       "      <td>0.000000</td>\n",
       "      <td>0.000000</td>\n",
       "      <td>51.000000</td>\n",
       "    </tr>\n",
       "    <tr>\n",
       "      <th>max</th>\n",
       "      <td>999500.000000</td>\n",
       "      <td>1.000000</td>\n",
       "      <td>1.000000</td>\n",
       "      <td>1.000000</td>\n",
       "      <td>8.000000</td>\n",
       "      <td>99.000000</td>\n",
       "    </tr>\n",
       "  </tbody>\n",
       "</table>\n",
       "</div>"
      ],
      "text/plain": [
       "       anon_person_id          target  presence_of_child_ind  \\\n",
       "count  1000000.000000  1000000.000000         1000000.000000   \n",
       "mean    499500.750000        0.149743               0.144680   \n",
       "std     288674.846352        0.356820               0.351778   \n",
       "min          1.000000        0.000000               0.000000   \n",
       "25%     249500.750000        0.000000               0.000000   \n",
       "50%     499500.500000        0.000000               0.000000   \n",
       "75%     749500.250000        0.000000               0.000000   \n",
       "max     999500.000000        1.000000               1.000000   \n",
       "\n",
       "       streaming_entertainment_subs  number_of_news_subs            age  \n",
       "count                1000000.000000       1000000.000000  980298.000000  \n",
       "mean                       0.173690             0.205013      46.851937  \n",
       "std                        0.378843             0.771099      15.018724  \n",
       "min                        0.000000             0.000000      19.000000  \n",
       "25%                        0.000000             0.000000      40.000000  \n",
       "50%                        0.000000             0.000000      45.000000  \n",
       "75%                        0.000000             0.000000      51.000000  \n",
       "max                        1.000000             8.000000      99.000000  "
      ]
     },
     "execution_count": 3,
     "metadata": {},
     "output_type": "execute_result"
    }
   ],
   "source": [
    "ds_practical_data.describe()"
   ]
  },
  {
   "cell_type": "markdown",
   "metadata": {},
   "source": [
    "## Removing duplicates in data"
   ]
  },
  {
   "cell_type": "code",
   "execution_count": 4,
   "metadata": {
    "collapsed": true
   },
   "outputs": [],
   "source": [
    "# dropping ALL duplicate values\n",
    "ds_practical_data=ds_practical_data.drop_duplicates()"
   ]
  },
  {
   "cell_type": "code",
   "execution_count": 5,
   "metadata": {},
   "outputs": [
    {
     "data": {
      "text/html": [
       "<div>\n",
       "<style>\n",
       "    .dataframe thead tr:only-child th {\n",
       "        text-align: right;\n",
       "    }\n",
       "\n",
       "    .dataframe thead th {\n",
       "        text-align: left;\n",
       "    }\n",
       "\n",
       "    .dataframe tbody tr th {\n",
       "        vertical-align: top;\n",
       "    }\n",
       "</style>\n",
       "<table border=\"1\" class=\"dataframe\">\n",
       "  <thead>\n",
       "    <tr style=\"text-align: right;\">\n",
       "      <th></th>\n",
       "      <th>anon_person_id</th>\n",
       "      <th>target</th>\n",
       "      <th>presence_of_child_ind</th>\n",
       "      <th>streaming_entertainment_subs</th>\n",
       "      <th>number_of_news_subs</th>\n",
       "      <th>age</th>\n",
       "    </tr>\n",
       "  </thead>\n",
       "  <tbody>\n",
       "    <tr>\n",
       "      <th>count</th>\n",
       "      <td>999500.000000</td>\n",
       "      <td>999500.000000</td>\n",
       "      <td>999500.000000</td>\n",
       "      <td>999500.000000</td>\n",
       "      <td>999500.000000</td>\n",
       "      <td>979899.000000</td>\n",
       "    </tr>\n",
       "    <tr>\n",
       "      <th>mean</th>\n",
       "      <td>499750.500000</td>\n",
       "      <td>0.149741</td>\n",
       "      <td>0.144689</td>\n",
       "      <td>0.173696</td>\n",
       "      <td>0.205026</td>\n",
       "      <td>46.851708</td>\n",
       "    </tr>\n",
       "    <tr>\n",
       "      <th>std</th>\n",
       "      <td>288530.941366</td>\n",
       "      <td>0.356817</td>\n",
       "      <td>0.351788</td>\n",
       "      <td>0.378848</td>\n",
       "      <td>0.771110</td>\n",
       "      <td>15.018765</td>\n",
       "    </tr>\n",
       "    <tr>\n",
       "      <th>min</th>\n",
       "      <td>1.000000</td>\n",
       "      <td>0.000000</td>\n",
       "      <td>0.000000</td>\n",
       "      <td>0.000000</td>\n",
       "      <td>0.000000</td>\n",
       "      <td>19.000000</td>\n",
       "    </tr>\n",
       "    <tr>\n",
       "      <th>25%</th>\n",
       "      <td>249875.750000</td>\n",
       "      <td>0.000000</td>\n",
       "      <td>0.000000</td>\n",
       "      <td>0.000000</td>\n",
       "      <td>0.000000</td>\n",
       "      <td>40.000000</td>\n",
       "    </tr>\n",
       "    <tr>\n",
       "      <th>50%</th>\n",
       "      <td>499750.500000</td>\n",
       "      <td>0.000000</td>\n",
       "      <td>0.000000</td>\n",
       "      <td>0.000000</td>\n",
       "      <td>0.000000</td>\n",
       "      <td>45.000000</td>\n",
       "    </tr>\n",
       "    <tr>\n",
       "      <th>75%</th>\n",
       "      <td>749625.250000</td>\n",
       "      <td>0.000000</td>\n",
       "      <td>0.000000</td>\n",
       "      <td>0.000000</td>\n",
       "      <td>0.000000</td>\n",
       "      <td>51.000000</td>\n",
       "    </tr>\n",
       "    <tr>\n",
       "      <th>max</th>\n",
       "      <td>999500.000000</td>\n",
       "      <td>1.000000</td>\n",
       "      <td>1.000000</td>\n",
       "      <td>1.000000</td>\n",
       "      <td>8.000000</td>\n",
       "      <td>99.000000</td>\n",
       "    </tr>\n",
       "  </tbody>\n",
       "</table>\n",
       "</div>"
      ],
      "text/plain": [
       "       anon_person_id         target  presence_of_child_ind  \\\n",
       "count   999500.000000  999500.000000          999500.000000   \n",
       "mean    499750.500000       0.149741               0.144689   \n",
       "std     288530.941366       0.356817               0.351788   \n",
       "min          1.000000       0.000000               0.000000   \n",
       "25%     249875.750000       0.000000               0.000000   \n",
       "50%     499750.500000       0.000000               0.000000   \n",
       "75%     749625.250000       0.000000               0.000000   \n",
       "max     999500.000000       1.000000               1.000000   \n",
       "\n",
       "       streaming_entertainment_subs  number_of_news_subs            age  \n",
       "count                 999500.000000        999500.000000  979899.000000  \n",
       "mean                       0.173696             0.205026      46.851708  \n",
       "std                        0.378848             0.771110      15.018765  \n",
       "min                        0.000000             0.000000      19.000000  \n",
       "25%                        0.000000             0.000000      40.000000  \n",
       "50%                        0.000000             0.000000      45.000000  \n",
       "75%                        0.000000             0.000000      51.000000  \n",
       "max                        1.000000             8.000000      99.000000  "
      ]
     },
     "execution_count": 5,
     "metadata": {},
     "output_type": "execute_result"
    }
   ],
   "source": [
    "# Confirming if duplicates were removed\n",
    "ds_practical_data.describe()"
   ]
  },
  {
   "cell_type": "code",
   "execution_count": 6,
   "metadata": {},
   "outputs": [
    {
     "data": {
      "text/html": [
       "<div>\n",
       "<style>\n",
       "    .dataframe thead tr:only-child th {\n",
       "        text-align: right;\n",
       "    }\n",
       "\n",
       "    .dataframe thead th {\n",
       "        text-align: left;\n",
       "    }\n",
       "\n",
       "    .dataframe tbody tr th {\n",
       "        vertical-align: top;\n",
       "    }\n",
       "</style>\n",
       "<table border=\"1\" class=\"dataframe\">\n",
       "  <thead>\n",
       "    <tr style=\"text-align: right;\">\n",
       "      <th></th>\n",
       "      <th>anon_person_id</th>\n",
       "      <th>target</th>\n",
       "      <th>state</th>\n",
       "      <th>presence_of_child_ind</th>\n",
       "      <th>streaming_media_subs</th>\n",
       "      <th>streaming_entertainment_subs</th>\n",
       "      <th>marital_status</th>\n",
       "      <th>gender</th>\n",
       "      <th>income</th>\n",
       "      <th>number_of_news_subs</th>\n",
       "      <th>age</th>\n",
       "    </tr>\n",
       "  </thead>\n",
       "  <tbody>\n",
       "    <tr>\n",
       "      <th>0</th>\n",
       "      <td>1</td>\n",
       "      <td>0</td>\n",
       "      <td>CA</td>\n",
       "      <td>0</td>\n",
       "      <td>N</td>\n",
       "      <td>0</td>\n",
       "      <td>M</td>\n",
       "      <td>Female</td>\n",
       "      <td>$175k-199k</td>\n",
       "      <td>0</td>\n",
       "      <td>43.0</td>\n",
       "    </tr>\n",
       "    <tr>\n",
       "      <th>1</th>\n",
       "      <td>2</td>\n",
       "      <td>0</td>\n",
       "      <td>CA</td>\n",
       "      <td>0</td>\n",
       "      <td>N</td>\n",
       "      <td>0</td>\n",
       "      <td>U</td>\n",
       "      <td>Male</td>\n",
       "      <td>$225k-249k</td>\n",
       "      <td>0</td>\n",
       "      <td>90.0</td>\n",
       "    </tr>\n",
       "    <tr>\n",
       "      <th>2</th>\n",
       "      <td>3</td>\n",
       "      <td>1</td>\n",
       "      <td>CA</td>\n",
       "      <td>0</td>\n",
       "      <td>Y</td>\n",
       "      <td>1</td>\n",
       "      <td>S</td>\n",
       "      <td>Female</td>\n",
       "      <td>$150k-174k</td>\n",
       "      <td>0</td>\n",
       "      <td>46.0</td>\n",
       "    </tr>\n",
       "    <tr>\n",
       "      <th>3</th>\n",
       "      <td>4</td>\n",
       "      <td>0</td>\n",
       "      <td>CA</td>\n",
       "      <td>1</td>\n",
       "      <td>N</td>\n",
       "      <td>0</td>\n",
       "      <td>U</td>\n",
       "      <td>Female</td>\n",
       "      <td>$125k-149k</td>\n",
       "      <td>0</td>\n",
       "      <td>25.0</td>\n",
       "    </tr>\n",
       "    <tr>\n",
       "      <th>4</th>\n",
       "      <td>5</td>\n",
       "      <td>0</td>\n",
       "      <td>CA</td>\n",
       "      <td>0</td>\n",
       "      <td>N</td>\n",
       "      <td>0</td>\n",
       "      <td>U</td>\n",
       "      <td>Female</td>\n",
       "      <td>$175k-199k</td>\n",
       "      <td>0</td>\n",
       "      <td>62.0</td>\n",
       "    </tr>\n",
       "  </tbody>\n",
       "</table>\n",
       "</div>"
      ],
      "text/plain": [
       "   anon_person_id  target state  presence_of_child_ind streaming_media_subs  \\\n",
       "0               1       0    CA                      0                    N   \n",
       "1               2       0    CA                      0                    N   \n",
       "2               3       1    CA                      0                    Y   \n",
       "3               4       0    CA                      1                    N   \n",
       "4               5       0    CA                      0                    N   \n",
       "\n",
       "   streaming_entertainment_subs marital_status  gender      income  \\\n",
       "0                             0              M  Female  $175k-199k   \n",
       "1                             0              U    Male  $225k-249k   \n",
       "2                             1              S  Female  $150k-174k   \n",
       "3                             0              U  Female  $125k-149k   \n",
       "4                             0              U  Female  $175k-199k   \n",
       "\n",
       "   number_of_news_subs   age  \n",
       "0                    0  43.0  \n",
       "1                    0  90.0  \n",
       "2                    0  46.0  \n",
       "3                    0  25.0  \n",
       "4                    0  62.0  "
      ]
     },
     "execution_count": 6,
     "metadata": {},
     "output_type": "execute_result"
    }
   ],
   "source": [
    "ds_practical_data.head(5)"
   ]
  },
  {
   "cell_type": "markdown",
   "metadata": {},
   "source": [
    "## Checking % of missing values in each Column\n",
    "### Observations:\n",
    "* 'State' variable has about 1% of missing values\n",
    "* 'Age' variable has about 2% of missing values"
   ]
  },
  {
   "cell_type": "code",
   "execution_count": 7,
   "metadata": {},
   "outputs": [
    {
     "data": {
      "text/plain": [
       "anon_person_id                  0.000000\n",
       "target                          0.000000\n",
       "state                           1.002901\n",
       "presence_of_child_ind           0.000000\n",
       "streaming_media_subs            0.000000\n",
       "streaming_entertainment_subs    0.000000\n",
       "marital_status                  0.000000\n",
       "gender                          0.000000\n",
       "income                          0.000000\n",
       "number_of_news_subs             0.000000\n",
       "age                             1.961081\n",
       "dtype: float64"
      ]
     },
     "execution_count": 7,
     "metadata": {},
     "output_type": "execute_result"
    }
   ],
   "source": [
    "ds_practical_data.isnull().sum()/len(ds_practical_data)*100"
   ]
  },
  {
   "cell_type": "markdown",
   "metadata": {},
   "source": [
    "## Checking % of possible values in each column\n",
    "### Observations:\n",
    "\n",
    "* 'State' has very less variability in the data; About 98% of the variable points to one value type: 'CA'\n",
    "* 'Gender' variable has two value types for denoting 'Female'; Needs to be cleaned before usage for model\n",
    "* 'Income' variable has multiple value types; Can be converted into numeric for better usage in model"
   ]
  },
  {
   "cell_type": "code",
   "execution_count": 115,
   "metadata": {},
   "outputs": [
    {
     "name": "stdout",
     "output_type": "stream",
     "text": [
      "1    149666\n",
      "0    849834\n",
      "Name: target, dtype: int64\n"
     ]
    }
   ],
   "source": [
    "print(ds_practical_data['target'].value_counts(ascending=True, dropna=False))"
   ]
  },
  {
   "cell_type": "code",
   "execution_count": 8,
   "metadata": {
    "scrolled": true
   },
   "outputs": [
    {
     "name": "stdout",
     "output_type": "stream",
     "text": [
      "****************************************************\n",
      "---------Variable - target-------------\n",
      "1    14.974087\n",
      "0    85.025913\n",
      "Name: target, dtype: float64\n",
      "****************************************************\n",
      "---------Variable - state-------------\n",
      "DC      0.205903\n",
      "NaN     1.002901\n",
      "GA      1.083642\n",
      "CA     97.707554\n",
      "Name: state, dtype: float64\n",
      "****************************************************\n",
      "---------Variable - presence_of_child_ind-------------\n",
      "1    14.468934\n",
      "0    85.531066\n",
      "Name: presence_of_child_ind, dtype: float64\n",
      "****************************************************\n",
      "---------Variable - streaming_media_subs-------------\n",
      "Y    17.369585\n",
      "N    82.630415\n",
      "Name: streaming_media_subs, dtype: float64\n",
      "****************************************************\n",
      "---------Variable - streaming_entertainment_subs-------------\n",
      "1    17.369585\n",
      "0    82.630415\n",
      "Name: streaming_entertainment_subs, dtype: float64\n",
      "****************************************************\n",
      "---------Variable - marital_status-------------\n",
      "S     4.948674\n",
      "M    29.058929\n",
      "U    65.992396\n",
      "Name: marital_status, dtype: float64\n",
      "****************************************************\n",
      "---------Variable - gender-------------\n",
      "feMalee     7.922561\n",
      "Female     34.615908\n",
      "Male       57.461531\n",
      "Name: gender, dtype: float64\n",
      "****************************************************\n",
      "---------Variable - income-------------\n",
      "<$25k          0.007904\n",
      "$25k-49k       0.083942\n",
      "$50k-74k       0.450825\n",
      "$75k-99k       1.501051\n",
      "U              1.695348\n",
      "$100k-124k     3.872136\n",
      "$250k+         8.006903\n",
      "$125k-149k     8.226713\n",
      "$150k-174k    14.560380\n",
      "$225k-249k    17.387194\n",
      "$175k-199k    21.145973\n",
      "$200k-224k    23.061631\n",
      "Name: income, dtype: float64\n",
      "****************************************************\n",
      "---------Variable - number_of_news_subs-------------\n",
      "8     0.000600\n",
      "7     0.009505\n",
      "6     0.085043\n",
      "5     0.402001\n",
      "4     1.172286\n",
      "1     1.651726\n",
      "3     2.166783\n",
      "2     2.534867\n",
      "0    91.977189\n",
      "Name: number_of_news_subs, dtype: float64\n",
      "****************************************************\n",
      "---------Variable - age-------------\n",
      " 99.0     0.114257\n",
      " 98.0     0.118959\n",
      " 97.0     0.132866\n",
      " 96.0     0.139670\n",
      " 95.0     0.152976\n",
      " 93.0     0.162081\n",
      " 94.0     0.163782\n",
      " 92.0     0.181791\n",
      " 91.0     0.194897\n",
      " 90.0     0.205403\n",
      " 89.0     0.221111\n",
      " 88.0     0.228414\n",
      " 87.0     0.241421\n",
      " 86.0     0.262531\n",
      " 85.0     0.271436\n",
      " 84.0     0.298349\n",
      " 83.0     0.310455\n",
      " 82.0     0.328164\n",
      " 81.0     0.345773\n",
      " 80.0     0.361081\n",
      " 79.0     0.385693\n",
      " 78.0     0.403502\n",
      " 77.0     0.419210\n",
      " 76.0     0.428014\n",
      " 75.0     0.461531\n",
      " 74.0     0.470935\n",
      " 73.0     0.514057\n",
      " 72.0     0.529665\n",
      " 71.0     0.539470\n",
      " 70.0     0.553077\n",
      " 69.0     0.582691\n",
      " 68.0     0.595098\n",
      " 67.0     0.614307\n",
      " 66.0     0.648124\n",
      " 65.0     0.671936\n",
      " 64.0     0.701751\n",
      " 63.0     0.721461\n",
      " 62.0     0.740070\n",
      " 61.0     0.761281\n",
      " 60.0     0.802001\n",
      " 59.0     0.834217\n",
      " 58.0     0.848424\n",
      " 57.0     0.917359\n",
      " 19.0     0.975088\n",
      " 56.0     0.980790\n",
      " 21.0     0.990195\n",
      " 20.0     0.991496\n",
      " 22.0     1.016708\n",
      " 23.0     1.016908\n",
      " 25.0     1.035618\n",
      " 26.0     1.045423\n",
      " 24.0     1.045923\n",
      " 55.0     1.047624\n",
      " 27.0     1.065233\n",
      " 28.0     1.074337\n",
      " 29.0     1.094647\n",
      " 30.0     1.111056\n",
      " 54.0     1.127764\n",
      " 31.0     1.131566\n",
      " 32.0     1.132266\n",
      " 33.0     1.170085\n",
      " 34.0     1.198799\n",
      " 53.0     1.263032\n",
      " 35.0     1.270535\n",
      " 36.0     1.333367\n",
      " 52.0     1.405603\n",
      " 37.0     1.449125\n",
      " 51.0     1.535668\n",
      " 38.0     1.545073\n",
      " 39.0     1.658129\n",
      " 50.0     1.693947\n",
      " 40.0     1.787294\n",
      " 49.0     1.846923\n",
      " 41.0     1.935168\n",
      "NaN       1.961081\n",
      " 48.0     1.983792\n",
      " 42.0     2.081941\n",
      " 47.0     2.082441\n",
      " 43.0     2.145673\n",
      " 46.0     2.183692\n",
      " 44.0     2.218009\n",
      " 45.0    27.788694\n",
      "Name: age, dtype: float64\n"
     ]
    }
   ],
   "source": [
    "pd.set_option(\"display.max_rows\", None, \"display.max_columns\", None)\n",
    "for col in ds_practical_data.columns:\n",
    "    if(col not in ['anon_person_id']):\n",
    "        print(\"****************************************************\")\n",
    "        print(\"---------Variable - \"+col+\"-------------\")\n",
    "        print(ds_practical_data[col].value_counts(ascending=True, normalize=True, dropna=False)*100)"
   ]
  },
  {
   "cell_type": "markdown",
   "metadata": {},
   "source": [
    "# Step-2: Cleaning up data for model creation\n",
    "## Handling missing values "
   ]
  },
  {
   "cell_type": "code",
   "execution_count": 9,
   "metadata": {},
   "outputs": [
    {
     "data": {
      "text/html": [
       "<div>\n",
       "<style>\n",
       "    .dataframe thead tr:only-child th {\n",
       "        text-align: right;\n",
       "    }\n",
       "\n",
       "    .dataframe thead th {\n",
       "        text-align: left;\n",
       "    }\n",
       "\n",
       "    .dataframe tbody tr th {\n",
       "        vertical-align: top;\n",
       "    }\n",
       "</style>\n",
       "<table border=\"1\" class=\"dataframe\">\n",
       "  <thead>\n",
       "    <tr style=\"text-align: right;\">\n",
       "      <th></th>\n",
       "      <th>anon_person_id</th>\n",
       "      <th>target</th>\n",
       "      <th>state</th>\n",
       "      <th>presence_of_child_ind</th>\n",
       "      <th>streaming_media_subs</th>\n",
       "      <th>streaming_entertainment_subs</th>\n",
       "      <th>marital_status</th>\n",
       "      <th>gender</th>\n",
       "      <th>income</th>\n",
       "      <th>number_of_news_subs</th>\n",
       "      <th>age</th>\n",
       "    </tr>\n",
       "  </thead>\n",
       "  <tbody>\n",
       "    <tr>\n",
       "      <th>0</th>\n",
       "      <td>1</td>\n",
       "      <td>0</td>\n",
       "      <td>CA</td>\n",
       "      <td>0</td>\n",
       "      <td>N</td>\n",
       "      <td>0</td>\n",
       "      <td>M</td>\n",
       "      <td>Female</td>\n",
       "      <td>$175k-199k</td>\n",
       "      <td>0</td>\n",
       "      <td>43.0</td>\n",
       "    </tr>\n",
       "    <tr>\n",
       "      <th>1</th>\n",
       "      <td>2</td>\n",
       "      <td>0</td>\n",
       "      <td>CA</td>\n",
       "      <td>0</td>\n",
       "      <td>N</td>\n",
       "      <td>0</td>\n",
       "      <td>U</td>\n",
       "      <td>Male</td>\n",
       "      <td>$225k-249k</td>\n",
       "      <td>0</td>\n",
       "      <td>90.0</td>\n",
       "    </tr>\n",
       "  </tbody>\n",
       "</table>\n",
       "</div>"
      ],
      "text/plain": [
       "   anon_person_id  target state  presence_of_child_ind streaming_media_subs  \\\n",
       "0               1       0    CA                      0                    N   \n",
       "1               2       0    CA                      0                    N   \n",
       "\n",
       "   streaming_entertainment_subs marital_status  gender      income  \\\n",
       "0                             0              M  Female  $175k-199k   \n",
       "1                             0              U    Male  $225k-249k   \n",
       "\n",
       "   number_of_news_subs   age  \n",
       "0                    0  43.0  \n",
       "1                    0  90.0  "
      ]
     },
     "execution_count": 9,
     "metadata": {},
     "output_type": "execute_result"
    }
   ],
   "source": [
    "ds_practical_data.head(2)"
   ]
  },
  {
   "cell_type": "markdown",
   "metadata": {},
   "source": [
    "### Strategies: \n",
    "\n",
    "* Dropping 'state' variable due to very little variablilty in the data\n",
    "* Using a median value to impute for 'Age'"
   ]
  },
  {
   "cell_type": "code",
   "execution_count": 10,
   "metadata": {
    "collapsed": true
   },
   "outputs": [],
   "source": [
    "ds_practical_data_imputed = ds_practical_data.drop('state', axis=1)\n",
    "ds_practical_data_imputed['age'].fillna(ds_practical_data['age'].median(), inplace=True)"
   ]
  },
  {
   "cell_type": "markdown",
   "metadata": {},
   "source": [
    "## Confirming that all missing values have been handled"
   ]
  },
  {
   "cell_type": "code",
   "execution_count": 11,
   "metadata": {},
   "outputs": [
    {
     "data": {
      "text/plain": [
       "anon_person_id                  0.0\n",
       "target                          0.0\n",
       "presence_of_child_ind           0.0\n",
       "streaming_media_subs            0.0\n",
       "streaming_entertainment_subs    0.0\n",
       "marital_status                  0.0\n",
       "gender                          0.0\n",
       "income                          0.0\n",
       "number_of_news_subs             0.0\n",
       "age                             0.0\n",
       "dtype: float64"
      ]
     },
     "execution_count": 11,
     "metadata": {},
     "output_type": "execute_result"
    }
   ],
   "source": [
    "ds_practical_data_imputed.isnull().sum()/len(ds_practical_data)*100"
   ]
  },
  {
   "cell_type": "markdown",
   "metadata": {},
   "source": [
    "# Step-3: Feature Transformations"
   ]
  },
  {
   "cell_type": "markdown",
   "metadata": {},
   "source": [
    "### Replacing imprecise values with appropriate values\n",
    "\n",
    "#### Variable & Assumption:\n",
    "* gender - Replacing 'feMalee' with 'Female'; Assuming this was a typo for value 'Female'; Can confirm the same with stakeholders/data engineering teams"
   ]
  },
  {
   "cell_type": "code",
   "execution_count": 12,
   "metadata": {
    "collapsed": true
   },
   "outputs": [],
   "source": [
    "ds_practical_data_feature_transformed = ds_practical_data_imputed\n",
    "ds_practical_data_feature_transformed[\"gender\"].replace({\"feMalee\": \"Female\"},inplace=True)"
   ]
  },
  {
   "cell_type": "code",
   "execution_count": 13,
   "metadata": {},
   "outputs": [
    {
     "data": {
      "text/plain": [
       "(999500, 10)"
      ]
     },
     "execution_count": 13,
     "metadata": {},
     "output_type": "execute_result"
    }
   ],
   "source": [
    "ds_practical_data_feature_transformed.shape"
   ]
  },
  {
   "cell_type": "code",
   "execution_count": 14,
   "metadata": {},
   "outputs": [
    {
     "name": "stdout",
     "output_type": "stream",
     "text": [
      "Female    42.538469\n",
      "Male      57.461531\n",
      "Name: gender, dtype: float64\n"
     ]
    }
   ],
   "source": [
    "print(ds_practical_data_feature_transformed[\"gender\"].value_counts(ascending=True, normalize=True, dropna=False)*100)"
   ]
  },
  {
   "cell_type": "markdown",
   "metadata": {},
   "source": [
    "### Converting categorical to numeric variables using one-hot encoding\n",
    "#### Variable & Strategy:\n",
    "* ** marital status:** Creating a feature each for 'Married' and 'Single'; Not creating a feature for 'Unknown' because it wouldn't be insightful as a variable"
   ]
  },
  {
   "cell_type": "code",
   "execution_count": 15,
   "metadata": {},
   "outputs": [
    {
     "name": "stdout",
     "output_type": "stream",
     "text": [
      "   marital_status_M  marital_status_S  marital_status_U\n",
      "0                 1                 0                 0\n",
      "1                 0                 0                 1\n",
      "2                 0                 1                 0\n",
      "3                 0                 0                 1\n",
      "4                 0                 0                 1\n",
      "(999500, 13)\n"
     ]
    },
    {
     "data": {
      "text/html": [
       "<div>\n",
       "<style>\n",
       "    .dataframe thead tr:only-child th {\n",
       "        text-align: right;\n",
       "    }\n",
       "\n",
       "    .dataframe thead th {\n",
       "        text-align: left;\n",
       "    }\n",
       "\n",
       "    .dataframe tbody tr th {\n",
       "        vertical-align: top;\n",
       "    }\n",
       "</style>\n",
       "<table border=\"1\" class=\"dataframe\">\n",
       "  <thead>\n",
       "    <tr style=\"text-align: right;\">\n",
       "      <th></th>\n",
       "      <th>anon_person_id</th>\n",
       "      <th>target</th>\n",
       "      <th>presence_of_child_ind</th>\n",
       "      <th>streaming_media_subs</th>\n",
       "      <th>streaming_entertainment_subs</th>\n",
       "      <th>gender</th>\n",
       "      <th>income</th>\n",
       "      <th>number_of_news_subs</th>\n",
       "      <th>age</th>\n",
       "      <th>marital_status_M</th>\n",
       "      <th>marital_status_S</th>\n",
       "    </tr>\n",
       "  </thead>\n",
       "  <tbody>\n",
       "    <tr>\n",
       "      <th>0</th>\n",
       "      <td>1</td>\n",
       "      <td>0</td>\n",
       "      <td>0</td>\n",
       "      <td>N</td>\n",
       "      <td>0</td>\n",
       "      <td>Female</td>\n",
       "      <td>$175k-199k</td>\n",
       "      <td>0</td>\n",
       "      <td>43.0</td>\n",
       "      <td>1</td>\n",
       "      <td>0</td>\n",
       "    </tr>\n",
       "    <tr>\n",
       "      <th>1</th>\n",
       "      <td>2</td>\n",
       "      <td>0</td>\n",
       "      <td>0</td>\n",
       "      <td>N</td>\n",
       "      <td>0</td>\n",
       "      <td>Male</td>\n",
       "      <td>$225k-249k</td>\n",
       "      <td>0</td>\n",
       "      <td>90.0</td>\n",
       "      <td>0</td>\n",
       "      <td>0</td>\n",
       "    </tr>\n",
       "    <tr>\n",
       "      <th>2</th>\n",
       "      <td>3</td>\n",
       "      <td>1</td>\n",
       "      <td>0</td>\n",
       "      <td>Y</td>\n",
       "      <td>1</td>\n",
       "      <td>Female</td>\n",
       "      <td>$150k-174k</td>\n",
       "      <td>0</td>\n",
       "      <td>46.0</td>\n",
       "      <td>0</td>\n",
       "      <td>1</td>\n",
       "    </tr>\n",
       "    <tr>\n",
       "      <th>3</th>\n",
       "      <td>4</td>\n",
       "      <td>0</td>\n",
       "      <td>1</td>\n",
       "      <td>N</td>\n",
       "      <td>0</td>\n",
       "      <td>Female</td>\n",
       "      <td>$125k-149k</td>\n",
       "      <td>0</td>\n",
       "      <td>25.0</td>\n",
       "      <td>0</td>\n",
       "      <td>0</td>\n",
       "    </tr>\n",
       "    <tr>\n",
       "      <th>4</th>\n",
       "      <td>5</td>\n",
       "      <td>0</td>\n",
       "      <td>0</td>\n",
       "      <td>N</td>\n",
       "      <td>0</td>\n",
       "      <td>Female</td>\n",
       "      <td>$175k-199k</td>\n",
       "      <td>0</td>\n",
       "      <td>62.0</td>\n",
       "      <td>0</td>\n",
       "      <td>0</td>\n",
       "    </tr>\n",
       "  </tbody>\n",
       "</table>\n",
       "</div>"
      ],
      "text/plain": [
       "   anon_person_id  target  presence_of_child_ind streaming_media_subs  \\\n",
       "0               1       0                      0                    N   \n",
       "1               2       0                      0                    N   \n",
       "2               3       1                      0                    Y   \n",
       "3               4       0                      1                    N   \n",
       "4               5       0                      0                    N   \n",
       "\n",
       "   streaming_entertainment_subs  gender      income  number_of_news_subs  \\\n",
       "0                             0  Female  $175k-199k                    0   \n",
       "1                             0    Male  $225k-249k                    0   \n",
       "2                             1  Female  $150k-174k                    0   \n",
       "3                             0  Female  $125k-149k                    0   \n",
       "4                             0  Female  $175k-199k                    0   \n",
       "\n",
       "    age  marital_status_M  marital_status_S  \n",
       "0  43.0                 1                 0  \n",
       "1  90.0                 0                 0  \n",
       "2  46.0                 0                 1  \n",
       "3  25.0                 0                 0  \n",
       "4  62.0                 0                 0  "
      ]
     },
     "execution_count": 15,
     "metadata": {},
     "output_type": "execute_result"
    }
   ],
   "source": [
    "feature_to_be_modified_1 = 'marital_status'\n",
    "one_hot_feature_1 = pd.get_dummies(ds_practical_data_feature_transformed[feature_to_be_modified_1], prefix=feature_to_be_modified_1)\n",
    "print(one_hot_feature_1.head())\n",
    "for col in one_hot_feature_1:\n",
    "    ds_practical_data_feature_transformed[col]=one_hot_feature_1[col]\n",
    "\n",
    "# Printing one-hot encoded values\n",
    "print(ds_practical_data_feature_transformed.shape)\n",
    "ds_practical_data_feature_transformed = ds_practical_data_feature_transformed.drop(feature_to_be_modified_1, axis=1)\n",
    "ds_practical_data_feature_transformed = ds_practical_data_feature_transformed.drop(['marital_status_U'], axis=1)\n",
    "\n",
    "#printing transformed data\n",
    "ds_practical_data_feature_transformed.head(5)"
   ]
  },
  {
   "cell_type": "markdown",
   "metadata": {},
   "source": [
    "#### Variable & Strategy:\n",
    "* **streaming_media_subs:** Convert boolean string values to numeric \n",
    "* **gender:** Converting categorical variable to numeric; 1 indicate male and 0 would indicate female"
   ]
  },
  {
   "cell_type": "code",
   "execution_count": 16,
   "metadata": {},
   "outputs": [
    {
     "data": {
      "text/html": [
       "<div>\n",
       "<style>\n",
       "    .dataframe thead tr:only-child th {\n",
       "        text-align: right;\n",
       "    }\n",
       "\n",
       "    .dataframe thead th {\n",
       "        text-align: left;\n",
       "    }\n",
       "\n",
       "    .dataframe tbody tr th {\n",
       "        vertical-align: top;\n",
       "    }\n",
       "</style>\n",
       "<table border=\"1\" class=\"dataframe\">\n",
       "  <thead>\n",
       "    <tr style=\"text-align: right;\">\n",
       "      <th></th>\n",
       "      <th>anon_person_id</th>\n",
       "      <th>target</th>\n",
       "      <th>presence_of_child_ind</th>\n",
       "      <th>streaming_media_subs</th>\n",
       "      <th>streaming_entertainment_subs</th>\n",
       "      <th>gender</th>\n",
       "      <th>income</th>\n",
       "      <th>number_of_news_subs</th>\n",
       "      <th>age</th>\n",
       "      <th>marital_status_M</th>\n",
       "      <th>marital_status_S</th>\n",
       "    </tr>\n",
       "  </thead>\n",
       "  <tbody>\n",
       "    <tr>\n",
       "      <th>0</th>\n",
       "      <td>1</td>\n",
       "      <td>0</td>\n",
       "      <td>0</td>\n",
       "      <td>0</td>\n",
       "      <td>0</td>\n",
       "      <td>0</td>\n",
       "      <td>$175k-199k</td>\n",
       "      <td>0</td>\n",
       "      <td>43.0</td>\n",
       "      <td>1</td>\n",
       "      <td>0</td>\n",
       "    </tr>\n",
       "    <tr>\n",
       "      <th>1</th>\n",
       "      <td>2</td>\n",
       "      <td>0</td>\n",
       "      <td>0</td>\n",
       "      <td>0</td>\n",
       "      <td>0</td>\n",
       "      <td>1</td>\n",
       "      <td>$225k-249k</td>\n",
       "      <td>0</td>\n",
       "      <td>90.0</td>\n",
       "      <td>0</td>\n",
       "      <td>0</td>\n",
       "    </tr>\n",
       "    <tr>\n",
       "      <th>2</th>\n",
       "      <td>3</td>\n",
       "      <td>1</td>\n",
       "      <td>0</td>\n",
       "      <td>1</td>\n",
       "      <td>1</td>\n",
       "      <td>0</td>\n",
       "      <td>$150k-174k</td>\n",
       "      <td>0</td>\n",
       "      <td>46.0</td>\n",
       "      <td>0</td>\n",
       "      <td>1</td>\n",
       "    </tr>\n",
       "    <tr>\n",
       "      <th>3</th>\n",
       "      <td>4</td>\n",
       "      <td>0</td>\n",
       "      <td>1</td>\n",
       "      <td>0</td>\n",
       "      <td>0</td>\n",
       "      <td>0</td>\n",
       "      <td>$125k-149k</td>\n",
       "      <td>0</td>\n",
       "      <td>25.0</td>\n",
       "      <td>0</td>\n",
       "      <td>0</td>\n",
       "    </tr>\n",
       "    <tr>\n",
       "      <th>4</th>\n",
       "      <td>5</td>\n",
       "      <td>0</td>\n",
       "      <td>0</td>\n",
       "      <td>0</td>\n",
       "      <td>0</td>\n",
       "      <td>0</td>\n",
       "      <td>$175k-199k</td>\n",
       "      <td>0</td>\n",
       "      <td>62.0</td>\n",
       "      <td>0</td>\n",
       "      <td>0</td>\n",
       "    </tr>\n",
       "  </tbody>\n",
       "</table>\n",
       "</div>"
      ],
      "text/plain": [
       "   anon_person_id  target  presence_of_child_ind  streaming_media_subs  \\\n",
       "0               1       0                      0                     0   \n",
       "1               2       0                      0                     0   \n",
       "2               3       1                      0                     1   \n",
       "3               4       0                      1                     0   \n",
       "4               5       0                      0                     0   \n",
       "\n",
       "   streaming_entertainment_subs  gender      income  number_of_news_subs  \\\n",
       "0                             0       0  $175k-199k                    0   \n",
       "1                             0       1  $225k-249k                    0   \n",
       "2                             1       0  $150k-174k                    0   \n",
       "3                             0       0  $125k-149k                    0   \n",
       "4                             0       0  $175k-199k                    0   \n",
       "\n",
       "    age  marital_status_M  marital_status_S  \n",
       "0  43.0                 1                 0  \n",
       "1  90.0                 0                 0  \n",
       "2  46.0                 0                 1  \n",
       "3  25.0                 0                 0  \n",
       "4  62.0                 0                 0  "
      ]
     },
     "execution_count": 16,
     "metadata": {},
     "output_type": "execute_result"
    }
   ],
   "source": [
    "ds_practical_data_feature_transformed['streaming_media_subs'].replace(('Y', 'N'), (1, 0), inplace=True)\n",
    "ds_practical_data_feature_transformed['gender'].replace(('Male', 'Female'), (1, 0), inplace=True)\n",
    "ds_practical_data_feature_transformed.head(5)"
   ]
  },
  {
   "cell_type": "markdown",
   "metadata": {},
   "source": [
    "#### Strategy for feature:\n",
    "* **income:** Converting categorical variable to numeric; Use mean value of income range to assign a value\n",
    "* Replacing each value with the average of minimum and maximum figures within each range\n",
    "* For example, converting \"$25k-49k\" to \"$37k\" ie. (25+49)/2; Retaining only the number 37 in field"
   ]
  },
  {
   "cell_type": "code",
   "execution_count": 17,
   "metadata": {},
   "outputs": [
    {
     "name": "stdout",
     "output_type": "stream",
     "text": [
      "<$25k          0.007904\n",
      "$25k-49k       0.083942\n",
      "$50k-74k       0.450825\n",
      "$75k-99k       1.501051\n",
      "U              1.695348\n",
      "$100k-124k     3.872136\n",
      "$250k+         8.006903\n",
      "$125k-149k     8.226713\n",
      "$150k-174k    14.560380\n",
      "$225k-249k    17.387194\n",
      "$175k-199k    21.145973\n",
      "$200k-224k    23.061631\n",
      "Name: income, dtype: float64\n"
     ]
    }
   ],
   "source": [
    "# Check % of value counts\n",
    "print(ds_practical_data['income'].value_counts(ascending=True, normalize=True, dropna=False)*100)"
   ]
  },
  {
   "cell_type": "code",
   "execution_count": 18,
   "metadata": {
    "collapsed": true
   },
   "outputs": [],
   "source": [
    "# Replacing each value with the average of minimum and maximum figures within each range\n",
    "ds_practical_data_feature_transformed['income'].replace(('<$25k'), (12.5), inplace=True)\n",
    "ds_practical_data_feature_transformed['income'].replace(('$25k-49k'), (37), inplace=True)\n",
    "ds_practical_data_feature_transformed['income'].replace(('$50k-74k'), (62), inplace=True)\n",
    "ds_practical_data_feature_transformed['income'].replace(('$75k-99k'), (87), inplace=True)\n",
    "ds_practical_data_feature_transformed['income'].replace(('$100k-124k'), (112), inplace=True)\n",
    "ds_practical_data_feature_transformed['income'].replace(('$250k+'), (250), inplace=True)\n",
    "ds_practical_data_feature_transformed['income'].replace(('$125k-149k'), (137), inplace=True)\n",
    "ds_practical_data_feature_transformed['income'].replace(('$150k-174k'), (162), inplace=True)\n",
    "ds_practical_data_feature_transformed['income'].replace(('$225k-249k'), (237), inplace=True)\n",
    "ds_practical_data_feature_transformed['income'].replace(('$175k-199k'), (187), inplace=True)\n",
    "ds_practical_data_feature_transformed['income'].replace(('$200k-224k'), (212), inplace=True)\n",
    "ds_practical_data_feature_transformed['income'].replace(('U'), (212), inplace=True)"
   ]
  },
  {
   "cell_type": "code",
   "execution_count": 19,
   "metadata": {},
   "outputs": [
    {
     "name": "stdout",
     "output_type": "stream",
     "text": [
      "12.5      0.007904\n",
      "37.0      0.083942\n",
      "62.0      0.450825\n",
      "87.0      1.501051\n",
      "112.0     3.872136\n",
      "250.0     8.006903\n",
      "137.0     8.226713\n",
      "162.0    14.560380\n",
      "237.0    17.387194\n",
      "187.0    21.145973\n",
      "212.0    24.756978\n",
      "Name: income, dtype: float64\n"
     ]
    }
   ],
   "source": [
    "# Checking value counts for modified variable\n",
    "print(ds_practical_data_feature_transformed['income'].value_counts(ascending=True, normalize=True, dropna=False)*100)"
   ]
  },
  {
   "cell_type": "code",
   "execution_count": 20,
   "metadata": {},
   "outputs": [
    {
     "data": {
      "text/html": [
       "<div>\n",
       "<style>\n",
       "    .dataframe thead tr:only-child th {\n",
       "        text-align: right;\n",
       "    }\n",
       "\n",
       "    .dataframe thead th {\n",
       "        text-align: left;\n",
       "    }\n",
       "\n",
       "    .dataframe tbody tr th {\n",
       "        vertical-align: top;\n",
       "    }\n",
       "</style>\n",
       "<table border=\"1\" class=\"dataframe\">\n",
       "  <thead>\n",
       "    <tr style=\"text-align: right;\">\n",
       "      <th></th>\n",
       "      <th>anon_person_id</th>\n",
       "      <th>target</th>\n",
       "      <th>presence_of_child_ind</th>\n",
       "      <th>streaming_media_subs</th>\n",
       "      <th>streaming_entertainment_subs</th>\n",
       "      <th>gender</th>\n",
       "      <th>income</th>\n",
       "      <th>number_of_news_subs</th>\n",
       "      <th>age</th>\n",
       "      <th>marital_status_M</th>\n",
       "      <th>marital_status_S</th>\n",
       "    </tr>\n",
       "  </thead>\n",
       "  <tbody>\n",
       "    <tr>\n",
       "      <th>0</th>\n",
       "      <td>1</td>\n",
       "      <td>0</td>\n",
       "      <td>0</td>\n",
       "      <td>0</td>\n",
       "      <td>0</td>\n",
       "      <td>0</td>\n",
       "      <td>187.0</td>\n",
       "      <td>0</td>\n",
       "      <td>43.0</td>\n",
       "      <td>1</td>\n",
       "      <td>0</td>\n",
       "    </tr>\n",
       "    <tr>\n",
       "      <th>1</th>\n",
       "      <td>2</td>\n",
       "      <td>0</td>\n",
       "      <td>0</td>\n",
       "      <td>0</td>\n",
       "      <td>0</td>\n",
       "      <td>1</td>\n",
       "      <td>237.0</td>\n",
       "      <td>0</td>\n",
       "      <td>90.0</td>\n",
       "      <td>0</td>\n",
       "      <td>0</td>\n",
       "    </tr>\n",
       "    <tr>\n",
       "      <th>2</th>\n",
       "      <td>3</td>\n",
       "      <td>1</td>\n",
       "      <td>0</td>\n",
       "      <td>1</td>\n",
       "      <td>1</td>\n",
       "      <td>0</td>\n",
       "      <td>162.0</td>\n",
       "      <td>0</td>\n",
       "      <td>46.0</td>\n",
       "      <td>0</td>\n",
       "      <td>1</td>\n",
       "    </tr>\n",
       "    <tr>\n",
       "      <th>3</th>\n",
       "      <td>4</td>\n",
       "      <td>0</td>\n",
       "      <td>1</td>\n",
       "      <td>0</td>\n",
       "      <td>0</td>\n",
       "      <td>0</td>\n",
       "      <td>137.0</td>\n",
       "      <td>0</td>\n",
       "      <td>25.0</td>\n",
       "      <td>0</td>\n",
       "      <td>0</td>\n",
       "    </tr>\n",
       "    <tr>\n",
       "      <th>4</th>\n",
       "      <td>5</td>\n",
       "      <td>0</td>\n",
       "      <td>0</td>\n",
       "      <td>0</td>\n",
       "      <td>0</td>\n",
       "      <td>0</td>\n",
       "      <td>187.0</td>\n",
       "      <td>0</td>\n",
       "      <td>62.0</td>\n",
       "      <td>0</td>\n",
       "      <td>0</td>\n",
       "    </tr>\n",
       "  </tbody>\n",
       "</table>\n",
       "</div>"
      ],
      "text/plain": [
       "   anon_person_id  target  presence_of_child_ind  streaming_media_subs  \\\n",
       "0               1       0                      0                     0   \n",
       "1               2       0                      0                     0   \n",
       "2               3       1                      0                     1   \n",
       "3               4       0                      1                     0   \n",
       "4               5       0                      0                     0   \n",
       "\n",
       "   streaming_entertainment_subs  gender  income  number_of_news_subs   age  \\\n",
       "0                             0       0   187.0                    0  43.0   \n",
       "1                             0       1   237.0                    0  90.0   \n",
       "2                             1       0   162.0                    0  46.0   \n",
       "3                             0       0   137.0                    0  25.0   \n",
       "4                             0       0   187.0                    0  62.0   \n",
       "\n",
       "   marital_status_M  marital_status_S  \n",
       "0                 1                 0  \n",
       "1                 0                 0  \n",
       "2                 0                 1  \n",
       "3                 0                 0  \n",
       "4                 0                 0  "
      ]
     },
     "execution_count": 20,
     "metadata": {},
     "output_type": "execute_result"
    }
   ],
   "source": [
    "# View latest data\n",
    "ds_practical_data_feature_transformed.head(5)"
   ]
  },
  {
   "cell_type": "code",
   "execution_count": 21,
   "metadata": {},
   "outputs": [
    {
     "data": {
      "text/html": [
       "<div>\n",
       "<style>\n",
       "    .dataframe thead tr:only-child th {\n",
       "        text-align: right;\n",
       "    }\n",
       "\n",
       "    .dataframe thead th {\n",
       "        text-align: left;\n",
       "    }\n",
       "\n",
       "    .dataframe tbody tr th {\n",
       "        vertical-align: top;\n",
       "    }\n",
       "</style>\n",
       "<table border=\"1\" class=\"dataframe\">\n",
       "  <thead>\n",
       "    <tr style=\"text-align: right;\">\n",
       "      <th></th>\n",
       "      <th>anon_person_id</th>\n",
       "      <th>target</th>\n",
       "      <th>presence_of_child_ind</th>\n",
       "      <th>streaming_media_subs</th>\n",
       "      <th>streaming_entertainment_subs</th>\n",
       "      <th>gender</th>\n",
       "      <th>income</th>\n",
       "      <th>number_of_news_subs</th>\n",
       "      <th>age</th>\n",
       "      <th>marital_status_M</th>\n",
       "      <th>marital_status_S</th>\n",
       "    </tr>\n",
       "  </thead>\n",
       "  <tbody>\n",
       "    <tr>\n",
       "      <th>count</th>\n",
       "      <td>999500.000000</td>\n",
       "      <td>999500.000000</td>\n",
       "      <td>999500.000000</td>\n",
       "      <td>999500.000000</td>\n",
       "      <td>999500.000000</td>\n",
       "      <td>999500.000000</td>\n",
       "      <td>999500.000000</td>\n",
       "      <td>999500.000000</td>\n",
       "      <td>999500.000000</td>\n",
       "      <td>999500.000000</td>\n",
       "      <td>999500.000000</td>\n",
       "    </tr>\n",
       "    <tr>\n",
       "      <th>mean</th>\n",
       "      <td>499750.500000</td>\n",
       "      <td>0.149741</td>\n",
       "      <td>0.144689</td>\n",
       "      <td>0.173696</td>\n",
       "      <td>0.173696</td>\n",
       "      <td>0.574615</td>\n",
       "      <td>194.065349</td>\n",
       "      <td>0.205026</td>\n",
       "      <td>46.815395</td>\n",
       "      <td>0.290589</td>\n",
       "      <td>0.049487</td>\n",
       "    </tr>\n",
       "    <tr>\n",
       "      <th>std</th>\n",
       "      <td>288530.941366</td>\n",
       "      <td>0.356817</td>\n",
       "      <td>0.351788</td>\n",
       "      <td>0.378848</td>\n",
       "      <td>0.378848</td>\n",
       "      <td>0.494401</td>\n",
       "      <td>40.169709</td>\n",
       "      <td>0.771110</td>\n",
       "      <td>14.872987</td>\n",
       "      <td>0.454035</td>\n",
       "      <td>0.216882</td>\n",
       "    </tr>\n",
       "    <tr>\n",
       "      <th>min</th>\n",
       "      <td>1.000000</td>\n",
       "      <td>0.000000</td>\n",
       "      <td>0.000000</td>\n",
       "      <td>0.000000</td>\n",
       "      <td>0.000000</td>\n",
       "      <td>0.000000</td>\n",
       "      <td>12.500000</td>\n",
       "      <td>0.000000</td>\n",
       "      <td>19.000000</td>\n",
       "      <td>0.000000</td>\n",
       "      <td>0.000000</td>\n",
       "    </tr>\n",
       "    <tr>\n",
       "      <th>25%</th>\n",
       "      <td>249875.750000</td>\n",
       "      <td>0.000000</td>\n",
       "      <td>0.000000</td>\n",
       "      <td>0.000000</td>\n",
       "      <td>0.000000</td>\n",
       "      <td>0.000000</td>\n",
       "      <td>162.000000</td>\n",
       "      <td>0.000000</td>\n",
       "      <td>40.000000</td>\n",
       "      <td>0.000000</td>\n",
       "      <td>0.000000</td>\n",
       "    </tr>\n",
       "    <tr>\n",
       "      <th>50%</th>\n",
       "      <td>499750.500000</td>\n",
       "      <td>0.000000</td>\n",
       "      <td>0.000000</td>\n",
       "      <td>0.000000</td>\n",
       "      <td>0.000000</td>\n",
       "      <td>1.000000</td>\n",
       "      <td>212.000000</td>\n",
       "      <td>0.000000</td>\n",
       "      <td>45.000000</td>\n",
       "      <td>0.000000</td>\n",
       "      <td>0.000000</td>\n",
       "    </tr>\n",
       "    <tr>\n",
       "      <th>75%</th>\n",
       "      <td>749625.250000</td>\n",
       "      <td>0.000000</td>\n",
       "      <td>0.000000</td>\n",
       "      <td>0.000000</td>\n",
       "      <td>0.000000</td>\n",
       "      <td>1.000000</td>\n",
       "      <td>237.000000</td>\n",
       "      <td>0.000000</td>\n",
       "      <td>51.000000</td>\n",
       "      <td>1.000000</td>\n",
       "      <td>0.000000</td>\n",
       "    </tr>\n",
       "    <tr>\n",
       "      <th>max</th>\n",
       "      <td>999500.000000</td>\n",
       "      <td>1.000000</td>\n",
       "      <td>1.000000</td>\n",
       "      <td>1.000000</td>\n",
       "      <td>1.000000</td>\n",
       "      <td>1.000000</td>\n",
       "      <td>250.000000</td>\n",
       "      <td>8.000000</td>\n",
       "      <td>99.000000</td>\n",
       "      <td>1.000000</td>\n",
       "      <td>1.000000</td>\n",
       "    </tr>\n",
       "  </tbody>\n",
       "</table>\n",
       "</div>"
      ],
      "text/plain": [
       "       anon_person_id         target  presence_of_child_ind  \\\n",
       "count   999500.000000  999500.000000          999500.000000   \n",
       "mean    499750.500000       0.149741               0.144689   \n",
       "std     288530.941366       0.356817               0.351788   \n",
       "min          1.000000       0.000000               0.000000   \n",
       "25%     249875.750000       0.000000               0.000000   \n",
       "50%     499750.500000       0.000000               0.000000   \n",
       "75%     749625.250000       0.000000               0.000000   \n",
       "max     999500.000000       1.000000               1.000000   \n",
       "\n",
       "       streaming_media_subs  streaming_entertainment_subs         gender  \\\n",
       "count         999500.000000                 999500.000000  999500.000000   \n",
       "mean               0.173696                      0.173696       0.574615   \n",
       "std                0.378848                      0.378848       0.494401   \n",
       "min                0.000000                      0.000000       0.000000   \n",
       "25%                0.000000                      0.000000       0.000000   \n",
       "50%                0.000000                      0.000000       1.000000   \n",
       "75%                0.000000                      0.000000       1.000000   \n",
       "max                1.000000                      1.000000       1.000000   \n",
       "\n",
       "              income  number_of_news_subs            age  marital_status_M  \\\n",
       "count  999500.000000        999500.000000  999500.000000     999500.000000   \n",
       "mean      194.065349             0.205026      46.815395          0.290589   \n",
       "std        40.169709             0.771110      14.872987          0.454035   \n",
       "min        12.500000             0.000000      19.000000          0.000000   \n",
       "25%       162.000000             0.000000      40.000000          0.000000   \n",
       "50%       212.000000             0.000000      45.000000          0.000000   \n",
       "75%       237.000000             0.000000      51.000000          1.000000   \n",
       "max       250.000000             8.000000      99.000000          1.000000   \n",
       "\n",
       "       marital_status_S  \n",
       "count     999500.000000  \n",
       "mean           0.049487  \n",
       "std            0.216882  \n",
       "min            0.000000  \n",
       "25%            0.000000  \n",
       "50%            0.000000  \n",
       "75%            0.000000  \n",
       "max            1.000000  "
      ]
     },
     "execution_count": 21,
     "metadata": {},
     "output_type": "execute_result"
    }
   ],
   "source": [
    "ds_practical_data_feature_transformed.describe()"
   ]
  },
  {
   "cell_type": "markdown",
   "metadata": {},
   "source": [
    "## Step-4: Find patterns in data to get a sense of important predictors"
   ]
  },
  {
   "cell_type": "markdown",
   "metadata": {},
   "source": [
    "### Observations:\n",
    "Based on mean values, **typical podcasts users** seem to:\n",
    "* Have children \n",
    "* Subscribe to streaming services\n",
    "* Listen to streaming entertainment\n",
    "* Be female users\n",
    "* Have lesser income than non-podcast users\n",
    "* Subscribe to news services, non-digital and digital\n",
    "* Be younger than non-podcast users\n",
    "* Have been identified as 'Married' or 'Single'"
   ]
  },
  {
   "cell_type": "code",
   "execution_count": 22,
   "metadata": {},
   "outputs": [
    {
     "data": {
      "text/html": [
       "<div>\n",
       "<style>\n",
       "    .dataframe thead tr:only-child th {\n",
       "        text-align: right;\n",
       "    }\n",
       "\n",
       "    .dataframe thead th {\n",
       "        text-align: left;\n",
       "    }\n",
       "\n",
       "    .dataframe tbody tr th {\n",
       "        vertical-align: top;\n",
       "    }\n",
       "</style>\n",
       "<table border=\"1\" class=\"dataframe\">\n",
       "  <thead>\n",
       "    <tr style=\"text-align: right;\">\n",
       "      <th></th>\n",
       "      <th>anon_person_id</th>\n",
       "      <th>presence_of_child_ind</th>\n",
       "      <th>streaming_media_subs</th>\n",
       "      <th>streaming_entertainment_subs</th>\n",
       "      <th>gender</th>\n",
       "      <th>income</th>\n",
       "      <th>number_of_news_subs</th>\n",
       "      <th>age</th>\n",
       "      <th>marital_status_M</th>\n",
       "      <th>marital_status_S</th>\n",
       "    </tr>\n",
       "    <tr>\n",
       "      <th>target</th>\n",
       "      <th></th>\n",
       "      <th></th>\n",
       "      <th></th>\n",
       "      <th></th>\n",
       "      <th></th>\n",
       "      <th></th>\n",
       "      <th></th>\n",
       "      <th></th>\n",
       "      <th></th>\n",
       "      <th></th>\n",
       "    </tr>\n",
       "  </thead>\n",
       "  <tbody>\n",
       "    <tr>\n",
       "      <th>0</th>\n",
       "      <td>499933.023589</td>\n",
       "      <td>0.069982</td>\n",
       "      <td>0.100327</td>\n",
       "      <td>0.100327</td>\n",
       "      <td>0.640276</td>\n",
       "      <td>201.911272</td>\n",
       "      <td>0.000000</td>\n",
       "      <td>47.130148</td>\n",
       "      <td>0.254927</td>\n",
       "      <td>0.022455</td>\n",
       "    </tr>\n",
       "    <tr>\n",
       "      <th>1</th>\n",
       "      <td>498714.093922</td>\n",
       "      <td>0.568893</td>\n",
       "      <td>0.590301</td>\n",
       "      <td>0.590301</td>\n",
       "      <td>0.201783</td>\n",
       "      <td>149.514603</td>\n",
       "      <td>1.369202</td>\n",
       "      <td>45.028163</td>\n",
       "      <td>0.493085</td>\n",
       "      <td>0.202979</td>\n",
       "    </tr>\n",
       "  </tbody>\n",
       "</table>\n",
       "</div>"
      ],
      "text/plain": [
       "        anon_person_id  presence_of_child_ind  streaming_media_subs  \\\n",
       "target                                                                \n",
       "0        499933.023589               0.069982              0.100327   \n",
       "1        498714.093922               0.568893              0.590301   \n",
       "\n",
       "        streaming_entertainment_subs    gender      income  \\\n",
       "target                                                       \n",
       "0                           0.100327  0.640276  201.911272   \n",
       "1                           0.590301  0.201783  149.514603   \n",
       "\n",
       "        number_of_news_subs        age  marital_status_M  marital_status_S  \n",
       "target                                                                      \n",
       "0                  0.000000  47.130148          0.254927          0.022455  \n",
       "1                  1.369202  45.028163          0.493085          0.202979  "
      ]
     },
     "execution_count": 22,
     "metadata": {},
     "output_type": "execute_result"
    }
   ],
   "source": [
    "ds_practical_data_feature_transformed.groupby('target').mean()"
   ]
  },
  {
   "cell_type": "markdown",
   "metadata": {},
   "source": [
    "## Charts to confirm relationships between variables and target"
   ]
  },
  {
   "cell_type": "code",
   "execution_count": 23,
   "metadata": {},
   "outputs": [
    {
     "data": {
      "image/png": "[encoded data removed]",
      "text/plain": [
       "<matplotlib.figure.Figure at 0x1da15479d30>"
      ]
     },
     "metadata": {},
     "output_type": "display_data"
    }
   ],
   "source": [
    "var_name='presence_of_child_ind'\n",
    "table=pd.crosstab(ds_practical_data_feature_transformed[var_name],ds_practical_data_feature_transformed.target)\n",
    "table.div(table.sum(1).astype(float), axis=0).plot(kind='bar', stacked=True)\n",
    "plt.title('Stacked Bar Chart of '+ var_name + ' vs Target')\n",
    "plt.xlabel(var_name)\n",
    "plt.ylabel('Target')\n",
    "plt.savefig(var_name + ' vs Target')\n",
    "plt.show()"
   ]
  },
  {
   "cell_type": "code",
   "execution_count": 24,
   "metadata": {},
   "outputs": [
    {
     "data": {
      "image/png": "[encoded data removed]",
      "text/plain": [
       "<matplotlib.figure.Figure at 0x1da15479dd8>"
      ]
     },
     "metadata": {},
     "output_type": "display_data"
    }
   ],
   "source": [
    "var_name='streaming_media_subs'\n",
    "table=pd.crosstab(ds_practical_data_feature_transformed[var_name],ds_practical_data_feature_transformed.target)\n",
    "table.div(table.sum(1).astype(float), axis=0).plot(kind='bar', stacked=True)\n",
    "plt.title('Stacked Bar Chart of '+ var_name + ' vs Target')\n",
    "plt.xlabel(var_name)\n",
    "plt.ylabel('Target')\n",
    "plt.savefig(var_name + ' vs Target')\n",
    "plt.show()"
   ]
  },
  {
   "cell_type": "code",
   "execution_count": 25,
   "metadata": {},
   "outputs": [
    {
     "data": {
      "image/png": "[encoded data removed]",
      "text/plain": [
       "<matplotlib.figure.Figure at 0x1da1546ab70>"
      ]
     },
     "metadata": {},
     "output_type": "display_data"
    }
   ],
   "source": [
    "var_name='streaming_entertainment_subs'\n",
    "table=pd.crosstab(ds_practical_data_feature_transformed[var_name],ds_practical_data_feature_transformed.target)\n",
    "table.div(table.sum(1).astype(float), axis=0).plot(kind='bar', stacked=True)\n",
    "plt.title('Stacked Bar Chart of '+ var_name + ' vs Target')\n",
    "plt.xlabel(var_name)\n",
    "plt.ylabel('Target')\n",
    "plt.savefig(var_name + ' vs Target')\n",
    "plt.show()"
   ]
  },
  {
   "cell_type": "code",
   "execution_count": 26,
   "metadata": {},
   "outputs": [
    {
     "data": {
      "image/png": "[encoded data removed]",
      "text/plain": [
       "<matplotlib.figure.Figure at 0x1da15c77be0>"
      ]
     },
     "metadata": {},
     "output_type": "display_data"
    }
   ],
   "source": [
    "var_name='gender'\n",
    "table=pd.crosstab(ds_practical_data_feature_transformed[var_name],ds_practical_data_feature_transformed.target)\n",
    "table.div(table.sum(1).astype(float), axis=0).plot(kind='bar', stacked=True)\n",
    "plt.title('Stacked Bar Chart of '+ var_name + ' vs Target')\n",
    "plt.xlabel(var_name)\n",
    "plt.ylabel('Target')\n",
    "plt.savefig(var_name + ' vs Target')\n",
    "plt.show()"
   ]
  },
  {
   "cell_type": "code",
   "execution_count": 27,
   "metadata": {},
   "outputs": [
    {
     "data": {
      "image/png": "[encoded data removed]",
      "text/plain": [
       "<matplotlib.figure.Figure at 0x1da15dba6a0>"
      ]
     },
     "metadata": {},
     "output_type": "display_data"
    }
   ],
   "source": [
    "var_name='income'\n",
    "table=pd.crosstab(ds_practical_data_feature_transformed[var_name],ds_practical_data_feature_transformed.target)\n",
    "table.div(table.sum(1).astype(float), axis=0).plot(kind='bar', stacked=True)\n",
    "plt.title('Stacked Bar Chart of '+ var_name + ' vs Target')\n",
    "plt.xlabel(var_name)\n",
    "plt.ylabel('Target')\n",
    "plt.savefig(var_name + ' vs Target')\n",
    "plt.show()"
   ]
  },
  {
   "cell_type": "code",
   "execution_count": 28,
   "metadata": {},
   "outputs": [
    {
     "data": {
      "image/png": "[encoded data removed]",
      "text/plain": [
       "<matplotlib.figure.Figure at 0x1da15479ac8>"
      ]
     },
     "metadata": {},
     "output_type": "display_data"
    }
   ],
   "source": [
    "var_name='number_of_news_subs'\n",
    "table=pd.crosstab(ds_practical_data_feature_transformed[var_name],ds_practical_data_feature_transformed.target)\n",
    "table.div(table.sum(1).astype(float), axis=0).plot(kind='bar', stacked=True)\n",
    "plt.title('Stacked Bar Chart of '+ var_name + ' vs Target')\n",
    "plt.xlabel(var_name)\n",
    "plt.ylabel('Target')\n",
    "plt.savefig(var_name + ' vs Target')\n",
    "plt.show()"
   ]
  },
  {
   "cell_type": "code",
   "execution_count": 29,
   "metadata": {},
   "outputs": [
    {
     "data": {
      "image/png": "[encoded data removed]",
      "text/plain": [
       "<matplotlib.figure.Figure at 0x1da15e82b38>"
      ]
     },
     "metadata": {},
     "output_type": "display_data"
    }
   ],
   "source": [
    "var_name='marital_status_M'\n",
    "table=pd.crosstab(ds_practical_data_feature_transformed[var_name],ds_practical_data_feature_transformed.target)\n",
    "table.div(table.sum(1).astype(float), axis=0).plot(kind='bar', stacked=True)\n",
    "plt.title('Stacked Bar Chart of '+ var_name + ' vs Target')\n",
    "plt.xlabel(var_name)\n",
    "plt.ylabel('Target')\n",
    "plt.savefig(var_name + ' vs Target')\n",
    "plt.show()"
   ]
  },
  {
   "cell_type": "code",
   "execution_count": 30,
   "metadata": {},
   "outputs": [
    {
     "data": {
      "image/png": "[encoded data removed]",
      "text/plain": [
       "<matplotlib.figure.Figure at 0x1da16034ac8>"
      ]
     },
     "metadata": {},
     "output_type": "display_data"
    }
   ],
   "source": [
    "var_name='marital_status_S'\n",
    "table=pd.crosstab(ds_practical_data_feature_transformed[var_name],ds_practical_data_feature_transformed.target)\n",
    "table.div(table.sum(1).astype(float), axis=0).plot(kind='bar', stacked=True)\n",
    "plt.title('Stacked Bar Chart of '+ var_name + ' vs Target')\n",
    "plt.xlabel(var_name)\n",
    "plt.ylabel('Target')\n",
    "plt.savefig(var_name + ' vs Target')\n",
    "plt.show()"
   ]
  },
  {
   "cell_type": "markdown",
   "metadata": {},
   "source": [
    "## Step-5: Feature Selection\n",
    "## Taking a look at Correlation between variables\n",
    "### Focus: \n",
    "* To understand good predictors for target \n",
    "* To check presence of multi-collinearity"
   ]
  },
  {
   "cell_type": "code",
   "execution_count": 32,
   "metadata": {},
   "outputs": [
    {
     "data": {
      "image/png": "[encoded data removed]",
      "text/plain": [
       "<matplotlib.figure.Figure at 0x1da1604dcf8>"
      ]
     },
     "metadata": {},
     "output_type": "display_data"
    }
   ],
   "source": [
    "corr_df=ds_practical_data_feature_transformed[ds_practical_data_feature_transformed.columns.drop('anon_person_id')].corr(method='pearson')\n",
    "# Creating a mask to display only the lower triangle of the matrix\n",
    "mask=np.zeros_like(corr_df)\n",
    "mask[np.triu_indices_from(mask)]=True\n",
    "sns.heatmap(corr_df,cmap='BrBG',vmax=1.0,vmin=-1.0,mask=mask, linewidths=2.5,annot=True)\n",
    "# Reorienting the labels to better represent the chart\n",
    "plt.rcParams['figure.figsize'] = [12, 14]\n",
    "plt.yticks(rotation=0)\n",
    "plt.xticks(rotation=90)\n",
    "plt.show()"
   ]
  },
  {
   "cell_type": "markdown",
   "metadata": {},
   "source": [
    "## Taking a look at VIF values to exclude variables due to multi-collinearity\n",
    "### * In the case of scenarios where we certainly need to use a set of multi-collinear variables, we could opt to use Regularization techniques like Lasso/Ridge\n",
    "\n"
   ]
  },
  {
   "cell_type": "code",
   "execution_count": 33,
   "metadata": {},
   "outputs": [
    {
     "name": "stderr",
     "output_type": "stream",
     "text": [
      "C:\\Users\\Praveen\\Anaconda3\\lib\\site-packages\\statsmodels\\stats\\outliers_influence.py:167: RuntimeWarning: divide by zero encountered in double_scalars\n",
      "  vif = 1. / (1. - r_squared_i)\n"
     ]
    },
    {
     "data": {
      "text/html": [
       "<div>\n",
       "<style>\n",
       "    .dataframe thead tr:only-child th {\n",
       "        text-align: right;\n",
       "    }\n",
       "\n",
       "    .dataframe thead th {\n",
       "        text-align: left;\n",
       "    }\n",
       "\n",
       "    .dataframe tbody tr th {\n",
       "        vertical-align: top;\n",
       "    }\n",
       "</style>\n",
       "<table border=\"1\" class=\"dataframe\">\n",
       "  <thead>\n",
       "    <tr style=\"text-align: right;\">\n",
       "      <th></th>\n",
       "      <th>VIF</th>\n",
       "      <th>Column</th>\n",
       "    </tr>\n",
       "  </thead>\n",
       "  <tbody>\n",
       "    <tr>\n",
       "      <th>3</th>\n",
       "      <td>inf</td>\n",
       "      <td>streaming_media_subs</td>\n",
       "    </tr>\n",
       "    <tr>\n",
       "      <th>4</th>\n",
       "      <td>inf</td>\n",
       "      <td>streaming_entertainment_subs</td>\n",
       "    </tr>\n",
       "    <tr>\n",
       "      <th>6</th>\n",
       "      <td>11.743265</td>\n",
       "      <td>income</td>\n",
       "    </tr>\n",
       "    <tr>\n",
       "      <th>8</th>\n",
       "      <td>9.433822</td>\n",
       "      <td>age</td>\n",
       "    </tr>\n",
       "    <tr>\n",
       "      <th>0</th>\n",
       "      <td>3.840806</td>\n",
       "      <td>anon_person_id</td>\n",
       "    </tr>\n",
       "    <tr>\n",
       "      <th>1</th>\n",
       "      <td>2.643031</td>\n",
       "      <td>target</td>\n",
       "    </tr>\n",
       "    <tr>\n",
       "      <th>5</th>\n",
       "      <td>2.546369</td>\n",
       "      <td>gender</td>\n",
       "    </tr>\n",
       "    <tr>\n",
       "      <th>7</th>\n",
       "      <td>2.346462</td>\n",
       "      <td>number_of_news_subs</td>\n",
       "    </tr>\n",
       "    <tr>\n",
       "      <th>2</th>\n",
       "      <td>2.235836</td>\n",
       "      <td>presence_of_child_ind</td>\n",
       "    </tr>\n",
       "    <tr>\n",
       "      <th>9</th>\n",
       "      <td>1.523903</td>\n",
       "      <td>marital_status_M</td>\n",
       "    </tr>\n",
       "    <tr>\n",
       "      <th>10</th>\n",
       "      <td>1.208751</td>\n",
       "      <td>marital_status_S</td>\n",
       "    </tr>\n",
       "  </tbody>\n",
       "</table>\n",
       "</div>"
      ],
      "text/plain": [
       "          VIF                        Column\n",
       "3         inf          streaming_media_subs\n",
       "4         inf  streaming_entertainment_subs\n",
       "6   11.743265                        income\n",
       "8    9.433822                           age\n",
       "0    3.840806                anon_person_id\n",
       "1    2.643031                        target\n",
       "5    2.546369                        gender\n",
       "7    2.346462           number_of_news_subs\n",
       "2    2.235836         presence_of_child_ind\n",
       "9    1.523903              marital_status_M\n",
       "10   1.208751              marital_status_S"
      ]
     },
     "execution_count": 33,
     "metadata": {},
     "output_type": "execute_result"
    }
   ],
   "source": [
    "vif_info = pd.DataFrame()\n",
    "vif_info['VIF'] = [variance_inflation_factor(ds_practical_data_feature_transformed.values, i) for i in range(ds_practical_data_feature_transformed.shape[1])]\n",
    "vif_info['Column'] = ds_practical_data_feature_transformed.columns\n",
    "vif_info.sort_values('VIF', ascending=False)"
   ]
  },
  {
   "cell_type": "markdown",
   "metadata": {},
   "source": [
    "### Strategy: VIF values greater than 5 are considered to be highly multi-collinear"
   ]
  },
  {
   "cell_type": "code",
   "execution_count": 34,
   "metadata": {},
   "outputs": [
    {
     "data": {
      "text/html": [
       "<div>\n",
       "<style>\n",
       "    .dataframe thead tr:only-child th {\n",
       "        text-align: right;\n",
       "    }\n",
       "\n",
       "    .dataframe thead th {\n",
       "        text-align: left;\n",
       "    }\n",
       "\n",
       "    .dataframe tbody tr th {\n",
       "        vertical-align: top;\n",
       "    }\n",
       "</style>\n",
       "<table border=\"1\" class=\"dataframe\">\n",
       "  <thead>\n",
       "    <tr style=\"text-align: right;\">\n",
       "      <th></th>\n",
       "      <th>VIF</th>\n",
       "      <th>Column</th>\n",
       "    </tr>\n",
       "  </thead>\n",
       "  <tbody>\n",
       "    <tr>\n",
       "      <th>3</th>\n",
       "      <td>10.034605</td>\n",
       "      <td>income</td>\n",
       "    </tr>\n",
       "    <tr>\n",
       "      <th>5</th>\n",
       "      <td>9.349532</td>\n",
       "      <td>age</td>\n",
       "    </tr>\n",
       "    <tr>\n",
       "      <th>2</th>\n",
       "      <td>2.447180</td>\n",
       "      <td>gender</td>\n",
       "    </tr>\n",
       "    <tr>\n",
       "      <th>0</th>\n",
       "      <td>2.142772</td>\n",
       "      <td>presence_of_child_ind</td>\n",
       "    </tr>\n",
       "    <tr>\n",
       "      <th>4</th>\n",
       "      <td>1.962150</td>\n",
       "      <td>number_of_news_subs</td>\n",
       "    </tr>\n",
       "    <tr>\n",
       "      <th>6</th>\n",
       "      <td>1.467855</td>\n",
       "      <td>marital_status_M</td>\n",
       "    </tr>\n",
       "    <tr>\n",
       "      <th>1</th>\n",
       "      <td>1.340877</td>\n",
       "      <td>streaming_media_subs</td>\n",
       "    </tr>\n",
       "    <tr>\n",
       "      <th>7</th>\n",
       "      <td>1.135293</td>\n",
       "      <td>marital_status_S</td>\n",
       "    </tr>\n",
       "  </tbody>\n",
       "</table>\n",
       "</div>"
      ],
      "text/plain": [
       "         VIF                 Column\n",
       "3  10.034605                 income\n",
       "5   9.349532                    age\n",
       "2   2.447180                 gender\n",
       "0   2.142772  presence_of_child_ind\n",
       "4   1.962150    number_of_news_subs\n",
       "6   1.467855       marital_status_M\n",
       "1   1.340877   streaming_media_subs\n",
       "7   1.135293       marital_status_S"
      ]
     },
     "execution_count": 34,
     "metadata": {},
     "output_type": "execute_result"
    }
   ],
   "source": [
    "# Removing ID, Target variables (We don't need to exclude them based on VIF)\n",
    "# Removing 'streaming_entertainment_subs' from features due to a high VIF\n",
    "ds_practical_data_feature_vif = ds_practical_data_feature_transformed.drop(['anon_person_id','target','streaming_entertainment_subs'], axis=1)\n",
    "vif_info = pd.DataFrame()\n",
    "vif_info['VIF'] = [variance_inflation_factor(ds_practical_data_feature_vif.values, i) for i in range(ds_practical_data_feature_vif.shape[1])]\n",
    "vif_info['Column'] = ds_practical_data_feature_vif.columns\n",
    "vif_info.sort_values('VIF', ascending=False)"
   ]
  },
  {
   "cell_type": "code",
   "execution_count": 35,
   "metadata": {},
   "outputs": [
    {
     "data": {
      "text/html": [
       "<div>\n",
       "<style>\n",
       "    .dataframe thead tr:only-child th {\n",
       "        text-align: right;\n",
       "    }\n",
       "\n",
       "    .dataframe thead th {\n",
       "        text-align: left;\n",
       "    }\n",
       "\n",
       "    .dataframe tbody tr th {\n",
       "        vertical-align: top;\n",
       "    }\n",
       "</style>\n",
       "<table border=\"1\" class=\"dataframe\">\n",
       "  <thead>\n",
       "    <tr style=\"text-align: right;\">\n",
       "      <th></th>\n",
       "      <th>VIF</th>\n",
       "      <th>Column</th>\n",
       "    </tr>\n",
       "  </thead>\n",
       "  <tbody>\n",
       "    <tr>\n",
       "      <th>4</th>\n",
       "      <td>2.826478</td>\n",
       "      <td>age</td>\n",
       "    </tr>\n",
       "    <tr>\n",
       "      <th>2</th>\n",
       "      <td>2.169232</td>\n",
       "      <td>gender</td>\n",
       "    </tr>\n",
       "    <tr>\n",
       "      <th>0</th>\n",
       "      <td>2.006278</td>\n",
       "      <td>presence_of_child_ind</td>\n",
       "    </tr>\n",
       "    <tr>\n",
       "      <th>3</th>\n",
       "      <td>1.962007</td>\n",
       "      <td>number_of_news_subs</td>\n",
       "    </tr>\n",
       "    <tr>\n",
       "      <th>5</th>\n",
       "      <td>1.431793</td>\n",
       "      <td>marital_status_M</td>\n",
       "    </tr>\n",
       "    <tr>\n",
       "      <th>1</th>\n",
       "      <td>1.330079</td>\n",
       "      <td>streaming_media_subs</td>\n",
       "    </tr>\n",
       "    <tr>\n",
       "      <th>6</th>\n",
       "      <td>1.130153</td>\n",
       "      <td>marital_status_S</td>\n",
       "    </tr>\n",
       "  </tbody>\n",
       "</table>\n",
       "</div>"
      ],
      "text/plain": [
       "        VIF                 Column\n",
       "4  2.826478                    age\n",
       "2  2.169232                 gender\n",
       "0  2.006278  presence_of_child_ind\n",
       "3  1.962007    number_of_news_subs\n",
       "5  1.431793       marital_status_M\n",
       "1  1.330079   streaming_media_subs\n",
       "6  1.130153       marital_status_S"
      ]
     },
     "execution_count": 35,
     "metadata": {},
     "output_type": "execute_result"
    }
   ],
   "source": [
    "# Removing 'Income' variable due to very high VIF\n",
    "ds_practical_data_feature_vif = ds_practical_data_feature_vif.drop(['income'], axis=1)\n",
    "vif_info = pd.DataFrame()\n",
    "vif_info['VIF'] = [variance_inflation_factor(ds_practical_data_feature_vif.values, i) for i in range(ds_practical_data_feature_vif.shape[1])]\n",
    "vif_info['Column'] = ds_practical_data_feature_vif.columns\n",
    "vif_info.sort_values('VIF', ascending=False)"
   ]
  },
  {
   "cell_type": "markdown",
   "metadata": {},
   "source": [
    "## Checking distributions if numeric features look normal"
   ]
  },
  {
   "cell_type": "code",
   "execution_count": 36,
   "metadata": {},
   "outputs": [
    {
     "data": {
      "image/png": "[encoded data removed]",
      "text/plain": [
       "<matplotlib.figure.Figure at 0x1da16101ba8>"
      ]
     },
     "metadata": {},
     "output_type": "display_data"
    }
   ],
   "source": [
    "plt.hist(ds_practical_data_feature_transformed['age'])\n",
    "plt.show()"
   ]
  },
  {
   "cell_type": "markdown",
   "metadata": {},
   "source": [
    "## Finalizing predictors for model\n",
    "### Selecting all features that good with respect to VIF, Correlation with target and distributions"
   ]
  },
  {
   "cell_type": "code",
   "execution_count": 37,
   "metadata": {},
   "outputs": [
    {
     "data": {
      "text/html": [
       "<div>\n",
       "<style>\n",
       "    .dataframe thead tr:only-child th {\n",
       "        text-align: right;\n",
       "    }\n",
       "\n",
       "    .dataframe thead th {\n",
       "        text-align: left;\n",
       "    }\n",
       "\n",
       "    .dataframe tbody tr th {\n",
       "        vertical-align: top;\n",
       "    }\n",
       "</style>\n",
       "<table border=\"1\" class=\"dataframe\">\n",
       "  <thead>\n",
       "    <tr style=\"text-align: right;\">\n",
       "      <th></th>\n",
       "      <th>target</th>\n",
       "      <th>age</th>\n",
       "      <th>gender</th>\n",
       "      <th>presence_of_child_ind</th>\n",
       "      <th>number_of_news_subs</th>\n",
       "      <th>marital_status_M</th>\n",
       "      <th>streaming_media_subs</th>\n",
       "      <th>marital_status_S</th>\n",
       "    </tr>\n",
       "  </thead>\n",
       "  <tbody>\n",
       "    <tr>\n",
       "      <th>0</th>\n",
       "      <td>0</td>\n",
       "      <td>43.0</td>\n",
       "      <td>0</td>\n",
       "      <td>0</td>\n",
       "      <td>0</td>\n",
       "      <td>1</td>\n",
       "      <td>0</td>\n",
       "      <td>0</td>\n",
       "    </tr>\n",
       "    <tr>\n",
       "      <th>1</th>\n",
       "      <td>0</td>\n",
       "      <td>90.0</td>\n",
       "      <td>1</td>\n",
       "      <td>0</td>\n",
       "      <td>0</td>\n",
       "      <td>0</td>\n",
       "      <td>0</td>\n",
       "      <td>0</td>\n",
       "    </tr>\n",
       "    <tr>\n",
       "      <th>2</th>\n",
       "      <td>1</td>\n",
       "      <td>46.0</td>\n",
       "      <td>0</td>\n",
       "      <td>0</td>\n",
       "      <td>0</td>\n",
       "      <td>0</td>\n",
       "      <td>1</td>\n",
       "      <td>1</td>\n",
       "    </tr>\n",
       "  </tbody>\n",
       "</table>\n",
       "</div>"
      ],
      "text/plain": [
       "   target   age  gender  presence_of_child_ind  number_of_news_subs  \\\n",
       "0       0  43.0       0                      0                    0   \n",
       "1       0  90.0       1                      0                    0   \n",
       "2       1  46.0       0                      0                    0   \n",
       "\n",
       "   marital_status_M  streaming_media_subs  marital_status_S  \n",
       "0                 1                     0                 0  \n",
       "1                 0                     0                 0  \n",
       "2                 0                     1                 1  "
      ]
     },
     "execution_count": 37,
     "metadata": {},
     "output_type": "execute_result"
    }
   ],
   "source": [
    "ds_practical_data_feature_selected = ds_practical_data_feature_transformed[[\"target\",\"age\", \"gender\",\"presence_of_child_ind\",\"number_of_news_subs\",\"marital_status_M\",\"streaming_media_subs\",\"marital_status_S\"]]\n",
    "ds_practical_data_feature_selected.head(3)"
   ]
  },
  {
   "cell_type": "code",
   "execution_count": 38,
   "metadata": {
    "collapsed": true
   },
   "outputs": [],
   "source": [
    "X = ds_practical_data_feature_selected.loc[:, ds_practical_data_feature_selected.columns != 'target']\n",
    "y = ds_practical_data_feature_selected.loc[:, ds_practical_data_feature_selected.columns == 'target']\n",
    "X_train, X_test, y_train, y_test = train_test_split(X, y, test_size=0.3, random_state=0)\n",
    "columns = X_train.columns"
   ]
  },
  {
   "cell_type": "code",
   "execution_count": 39,
   "metadata": {},
   "outputs": [
    {
     "data": {
      "text/plain": [
       "(699650, 7)"
      ]
     },
     "execution_count": 39,
     "metadata": {},
     "output_type": "execute_result"
    }
   ],
   "source": [
    "X_train.shape"
   ]
  },
  {
   "cell_type": "code",
   "execution_count": 40,
   "metadata": {},
   "outputs": [
    {
     "data": {
      "text/plain": [
       "(299850, 7)"
      ]
     },
     "execution_count": 40,
     "metadata": {},
     "output_type": "execute_result"
    }
   ],
   "source": [
    "X_test.shape    "
   ]
  },
  {
   "cell_type": "code",
   "execution_count": 41,
   "metadata": {},
   "outputs": [
    {
     "data": {
      "text/plain": [
       "(699650, 1)"
      ]
     },
     "execution_count": 41,
     "metadata": {},
     "output_type": "execute_result"
    }
   ],
   "source": [
    "y_train.shape "
   ]
  },
  {
   "cell_type": "code",
   "execution_count": 42,
   "metadata": {},
   "outputs": [
    {
     "data": {
      "text/plain": [
       "(299850, 1)"
      ]
     },
     "execution_count": 42,
     "metadata": {},
     "output_type": "execute_result"
    }
   ],
   "source": [
    "y_test.shape"
   ]
  },
  {
   "cell_type": "markdown",
   "metadata": {},
   "source": [
    "## Step-6: Model Selection and Building\n",
    "\n",
    "### Strategy: \n",
    "\n",
    "* A very simple and non-sophisticated model like logistic regression would enable explainability of the model and important features\n",
    "* The intent is to start with a logistic regression; If logistic regression is not a good a predictor, we could move to more sophisticated classification algorithms\n"
   ]
  },
  {
   "cell_type": "code",
   "execution_count": 43,
   "metadata": {},
   "outputs": [
    {
     "name": "stdout",
     "output_type": "stream",
     "text": [
      "Warning: Maximum number of iterations has been exceeded.\n",
      "         Current function value: 0.168785\n",
      "         Iterations: 35\n"
     ]
    },
    {
     "name": "stderr",
     "output_type": "stream",
     "text": [
      "C:\\Users\\Praveen\\Anaconda3\\lib\\site-packages\\statsmodels\\base\\model.py:496: ConvergenceWarning: Maximum Likelihood optimization failed to converge. Check mle_retvals\n",
      "  \"Check mle_retvals\", ConvergenceWarning)\n"
     ]
    },
    {
     "name": "stdout",
     "output_type": "stream",
     "text": [
      "                                 Results: Logit\n",
      "================================================================================\n",
      "Model:                    Logit                Pseudo R-squared:     0.600      \n",
      "Dependent Variable:       target               AIC:                  337414.7244\n",
      "Date:                     2021-09-22 21:02     BIC:                  337497.4294\n",
      "No. Observations:         999500               Log-Likelihood:       -1.6870e+05\n",
      "Df Model:                 6                    LL-Null:              -4.2205e+05\n",
      "Df Residuals:             999493               LLR p-value:          0.0000     \n",
      "Converged:                0.0000               Scale:                1.0000     \n",
      "No. Iterations:           35.0000                                               \n",
      "--------------------------------------------------------------------------------\n",
      "                       Coef.   Std.Err.      z     P>|z|     [0.025     0.975]  \n",
      "--------------------------------------------------------------------------------\n",
      "age                   -0.0655     0.0002 -346.7229 0.0000     -0.0659    -0.0651\n",
      "gender                -2.2803     0.0105 -216.7381 0.0000     -2.3010    -2.2597\n",
      "presence_of_child_ind -0.1614     0.0184   -8.7515 0.0000     -0.1976    -0.1253\n",
      "number_of_news_subs   31.9777 17774.2286    0.0018 0.9986 -34804.8703 34868.8256\n",
      "marital_status_M       1.1724     0.0096  122.4623 0.0000      1.1537     1.1912\n",
      "streaming_media_subs   2.4113     0.0098  245.8860 0.0000      2.3921     2.4305\n",
      "marital_status_S       2.8118     0.0163  172.2357 0.0000      2.7798     2.8438\n",
      "================================================================================\n",
      "\n"
     ]
    }
   ],
   "source": [
    "logit_model=sm.Logit(y,X)\n",
    "result = logit_model.fit()\n",
    "print(result.summary2())"
   ]
  },
  {
   "cell_type": "markdown",
   "metadata": {},
   "source": [
    "* Removing 'number_of_news_subs' from the regression due to a very high P-value; 0.05 and less values are considered to be good enough"
   ]
  },
  {
   "cell_type": "code",
   "execution_count": 44,
   "metadata": {
    "collapsed": true
   },
   "outputs": [],
   "source": [
    "X=X.drop('number_of_news_subs', axis=1)"
   ]
  },
  {
   "cell_type": "markdown",
   "metadata": {},
   "source": [
    "* Updating the logistic regression after removal of unnecessary variable(s)"
   ]
  },
  {
   "cell_type": "code",
   "execution_count": 45,
   "metadata": {},
   "outputs": [
    {
     "name": "stdout",
     "output_type": "stream",
     "text": [
      "Optimization terminated successfully.\n",
      "         Current function value: 0.217592\n",
      "         Iterations 8\n",
      "                            Results: Logit\n",
      "=======================================================================\n",
      "Model:                 Logit             Pseudo R-squared:  0.485      \n",
      "Dependent Variable:    target            AIC:               434978.3348\n",
      "Date:                  2021-09-22 21:03  BIC:               435049.2249\n",
      "No. Observations:      999500            Log-Likelihood:    -2.1748e+05\n",
      "Df Model:              5                 LL-Null:           -4.2205e+05\n",
      "Df Residuals:          999494            LLR p-value:       0.0000     \n",
      "Converged:             1.0000            Scale:             1.0000     \n",
      "No. Iterations:        8.0000                                          \n",
      "-----------------------------------------------------------------------\n",
      "                       Coef.  Std.Err.     z     P>|z|   [0.025  0.975]\n",
      "-----------------------------------------------------------------------\n",
      "age                   -0.0652   0.0002 -381.3721 0.0000 -0.0656 -0.0649\n",
      "gender                -2.2350   0.0087 -255.7692 0.0000 -2.2521 -2.2179\n",
      "presence_of_child_ind  2.7414   0.0093  296.3437 0.0000  2.7233  2.7595\n",
      "marital_status_M       1.2154   0.0083  146.6556 0.0000  1.1992  1.2317\n",
      "streaming_media_subs   2.4062   0.0088  274.6101 0.0000  2.3890  2.4234\n",
      "marital_status_S       2.8310   0.0149  189.8112 0.0000  2.8017  2.8602\n",
      "=======================================================================\n",
      "\n"
     ]
    }
   ],
   "source": [
    "logit_model=sm.Logit(y,X)\n",
    "result = logit_model.fit()\n",
    "print(result.summary2())"
   ]
  },
  {
   "cell_type": "markdown",
   "metadata": {},
   "source": [
    "* Fitting a logistic regression based on 'balanced' class_weight due to an imbalance in the data set with respect to classes in target"
   ]
  },
  {
   "cell_type": "code",
   "execution_count": 46,
   "metadata": {},
   "outputs": [
    {
     "name": "stderr",
     "output_type": "stream",
     "text": [
      "C:\\Users\\Praveen\\Anaconda3\\lib\\site-packages\\sklearn\\utils\\validation.py:578: DataConversionWarning: A column-vector y was passed when a 1d array was expected. Please change the shape of y to (n_samples, ), for example using ravel().\n",
      "  y = column_or_1d(y, warn=True)\n"
     ]
    },
    {
     "data": {
      "text/plain": [
       "LogisticRegression(C=1.0, class_weight='balanced', dual=False,\n",
       "          fit_intercept=True, intercept_scaling=1, max_iter=100,\n",
       "          multi_class='ovr', n_jobs=1, penalty='l2', random_state=None,\n",
       "          solver='liblinear', tol=0.0001, verbose=0, warm_start=False)"
      ]
     },
     "execution_count": 46,
     "metadata": {},
     "output_type": "execute_result"
    }
   ],
   "source": [
    "X_train, X_test, y_train, y_test = train_test_split(X, y, test_size=0.3, random_state=0)\n",
    "logreg = LogisticRegression(class_weight = 'balanced')\n",
    "logreg.fit(X_train, y_train)            "
   ]
  },
  {
   "cell_type": "markdown",
   "metadata": {},
   "source": [
    "## Step-7: Model Evaluation\n",
    "\n",
    "### Strategy: \n",
    "* Checking for Confusion matrix to see overall accuracy, recall and precision values"
   ]
  },
  {
   "cell_type": "markdown",
   "metadata": {},
   "source": [
    "### Checking Overall accuracy and Confusion matrix"
   ]
  },
  {
   "cell_type": "code",
   "execution_count": 47,
   "metadata": {},
   "outputs": [
    {
     "name": "stdout",
     "output_type": "stream",
     "text": [
      "Accuracy of logistic regression classifier on test set: 0.87\n"
     ]
    }
   ],
   "source": [
    "y_pred = logreg.predict(X_test)\n",
    "print('Accuracy of logistic regression classifier on test set: {:.2f}'.format(logreg.score(X_test, y_test)))"
   ]
  },
  {
   "cell_type": "code",
   "execution_count": 48,
   "metadata": {},
   "outputs": [
    {
     "name": "stdout",
     "output_type": "stream",
     "text": [
      "[[224662  30133]\n",
      " [  7554  37501]]\n"
     ]
    }
   ],
   "source": [
    "confusion_matrix = confusion_matrix(y_test, y_pred)\n",
    "print(confusion_matrix)"
   ]
  },
  {
   "cell_type": "code",
   "execution_count": 49,
   "metadata": {},
   "outputs": [
    {
     "name": "stdout",
     "output_type": "stream",
     "text": [
      "             precision    recall  f1-score   support\n",
      "\n",
      "          0       0.97      0.88      0.92    254795\n",
      "          1       0.55      0.83      0.67     45055\n",
      "\n",
      "avg / total       0.91      0.87      0.88    299850\n",
      "\n"
     ]
    }
   ],
   "source": [
    "print(classification_report(y_test, y_pred))"
   ]
  },
  {
   "cell_type": "markdown",
   "metadata": {},
   "source": [
    "### Checking ROC curve"
   ]
  },
  {
   "cell_type": "code",
   "execution_count": 50,
   "metadata": {},
   "outputs": [
    {
     "data": {
      "image/png": "[encoded data removed]",
      "text/plain": [
       "<matplotlib.figure.Figure at 0x1da15e20208>"
      ]
     },
     "metadata": {},
     "output_type": "display_data"
    }
   ],
   "source": [
    "logit_roc_auc = roc_auc_score(y_test, logreg.predict(X_test))\n",
    "fpr, tpr, thresholds = roc_curve(y_test, logreg.predict_proba(X_test)[:,1])\n",
    "plt.figure()\n",
    "plt.plot(fpr, tpr, label='Logistic Regression (area = %0.2f)' % logit_roc_auc)\n",
    "plt.plot([0, 1], [0, 1],'r--')\n",
    "plt.xlim([0.0, 1.0])\n",
    "plt.ylim([0.0, 1.05])\n",
    "plt.xlabel('False Positive Rate')\n",
    "plt.ylabel('True Positive Rate')\n",
    "plt.title('Receiver operating characteristic')\n",
    "plt.legend(loc=\"lower right\")\n",
    "plt.savefig('Log_ROC')\n",
    "plt.show()"
   ]
  },
  {
   "cell_type": "markdown",
   "metadata": {},
   "source": [
    "### Cross Validation\n",
    "* Cross validation to make sure that the model is robust and works well for different data combinations"
   ]
  },
  {
   "cell_type": "code",
   "execution_count": 51,
   "metadata": {},
   "outputs": [
    {
     "data": {
      "text/html": [
       "<div>\n",
       "<style>\n",
       "    .dataframe thead tr:only-child th {\n",
       "        text-align: right;\n",
       "    }\n",
       "\n",
       "    .dataframe thead th {\n",
       "        text-align: left;\n",
       "    }\n",
       "\n",
       "    .dataframe tbody tr th {\n",
       "        vertical-align: top;\n",
       "    }\n",
       "</style>\n",
       "<table border=\"1\" class=\"dataframe\">\n",
       "  <thead>\n",
       "    <tr style=\"text-align: right;\">\n",
       "      <th></th>\n",
       "      <th>age</th>\n",
       "      <th>gender</th>\n",
       "      <th>presence_of_child_ind</th>\n",
       "      <th>marital_status_M</th>\n",
       "      <th>streaming_media_subs</th>\n",
       "      <th>marital_status_S</th>\n",
       "    </tr>\n",
       "  </thead>\n",
       "  <tbody>\n",
       "    <tr>\n",
       "      <th>164104</th>\n",
       "      <td>76.0</td>\n",
       "      <td>0</td>\n",
       "      <td>0</td>\n",
       "      <td>0</td>\n",
       "      <td>0</td>\n",
       "      <td>0</td>\n",
       "    </tr>\n",
       "    <tr>\n",
       "      <th>576617</th>\n",
       "      <td>41.0</td>\n",
       "      <td>0</td>\n",
       "      <td>0</td>\n",
       "      <td>0</td>\n",
       "      <td>0</td>\n",
       "      <td>0</td>\n",
       "    </tr>\n",
       "    <tr>\n",
       "      <th>151571</th>\n",
       "      <td>50.0</td>\n",
       "      <td>0</td>\n",
       "      <td>0</td>\n",
       "      <td>0</td>\n",
       "      <td>0</td>\n",
       "      <td>0</td>\n",
       "    </tr>\n",
       "    <tr>\n",
       "      <th>457548</th>\n",
       "      <td>31.0</td>\n",
       "      <td>1</td>\n",
       "      <td>1</td>\n",
       "      <td>1</td>\n",
       "      <td>1</td>\n",
       "      <td>0</td>\n",
       "    </tr>\n",
       "    <tr>\n",
       "      <th>392891</th>\n",
       "      <td>32.0</td>\n",
       "      <td>0</td>\n",
       "      <td>0</td>\n",
       "      <td>0</td>\n",
       "      <td>0</td>\n",
       "      <td>0</td>\n",
       "    </tr>\n",
       "  </tbody>\n",
       "</table>\n",
       "</div>"
      ],
      "text/plain": [
       "         age  gender  presence_of_child_ind  marital_status_M  \\\n",
       "164104  76.0       0                      0                 0   \n",
       "576617  41.0       0                      0                 0   \n",
       "151571  50.0       0                      0                 0   \n",
       "457548  31.0       1                      1                 1   \n",
       "392891  32.0       0                      0                 0   \n",
       "\n",
       "        streaming_media_subs  marital_status_S  \n",
       "164104                     0                 0  \n",
       "576617                     0                 0  \n",
       "151571                     0                 0  \n",
       "457548                     1                 0  \n",
       "392891                     0                 0  "
      ]
     },
     "execution_count": 51,
     "metadata": {},
     "output_type": "execute_result"
    }
   ],
   "source": [
    "X_train.head(5)"
   ]
  },
  {
   "cell_type": "code",
   "execution_count": 52,
   "metadata": {},
   "outputs": [
    {
     "data": {
      "text/html": [
       "<div>\n",
       "<style>\n",
       "    .dataframe thead tr:only-child th {\n",
       "        text-align: right;\n",
       "    }\n",
       "\n",
       "    .dataframe thead th {\n",
       "        text-align: left;\n",
       "    }\n",
       "\n",
       "    .dataframe tbody tr th {\n",
       "        vertical-align: top;\n",
       "    }\n",
       "</style>\n",
       "<table border=\"1\" class=\"dataframe\">\n",
       "  <thead>\n",
       "    <tr style=\"text-align: right;\">\n",
       "      <th></th>\n",
       "      <th>target</th>\n",
       "    </tr>\n",
       "  </thead>\n",
       "  <tbody>\n",
       "    <tr>\n",
       "      <th>164104</th>\n",
       "      <td>0</td>\n",
       "    </tr>\n",
       "    <tr>\n",
       "      <th>576617</th>\n",
       "      <td>0</td>\n",
       "    </tr>\n",
       "    <tr>\n",
       "      <th>151571</th>\n",
       "      <td>0</td>\n",
       "    </tr>\n",
       "  </tbody>\n",
       "</table>\n",
       "</div>"
      ],
      "text/plain": [
       "        target\n",
       "164104       0\n",
       "576617       0\n",
       "151571       0"
      ]
     },
     "execution_count": 52,
     "metadata": {},
     "output_type": "execute_result"
    }
   ],
   "source": [
    "y_train.head(3)"
   ]
  },
  {
   "cell_type": "code",
   "execution_count": 53,
   "metadata": {},
   "outputs": [
    {
     "data": {
      "text/plain": [
       "array([ 0.87480973,  0.87630244,  0.87513757,  0.87641678,  0.87597996])"
      ]
     },
     "execution_count": 53,
     "metadata": {},
     "output_type": "execute_result"
    }
   ],
   "source": [
    "scores = cross_val_score(logreg,X_train,y_train.values.ravel(),cv=5)\n",
    "scores"
   ]
  },
  {
   "cell_type": "markdown",
   "metadata": {},
   "source": [
    "## Observations:\n",
    "* Model observed has an accuracy score of 87%; However, Recall and Precision rates can be tuned based on thresholds for target prediction\n",
    "\n",
    "## Strategy:\n",
    "* Goal of the exercise is to find best customers suitable for podcasts. Therefore, it's best to try and achieve a high Recall score\n",
    "* By tuning thresholds, we can achieve either i. High Recall or ii. High Precision or iii. Optimized Recall and Precision"
   ]
  },
  {
   "cell_type": "markdown",
   "metadata": {},
   "source": [
    "## Case-1: Tuning threshold to focus on high Recall"
   ]
  },
  {
   "cell_type": "code",
   "execution_count": 54,
   "metadata": {},
   "outputs": [
    {
     "name": "stdout",
     "output_type": "stream",
     "text": [
      "Accuracy: 0.873586793397\n",
      "Recall: 0.844878481856\n",
      "Precision: 0.551825113798\n"
     ]
    }
   ],
   "source": [
    "y_pred_modified_threshold_v1=(logreg.predict_proba(X_test)[:,1] >=0.49).astype(bool)\n",
    "print(\"Accuracy:\",metrics.accuracy_score(y_test,y_pred_modified_threshold_v1))\n",
    "print(\"Recall:\",metrics.recall_score(y_test,y_pred_modified_threshold_v1))\n",
    "print(\"Precision:\",metrics.precision_score(y_test,y_pred_modified_threshold_v1))"
   ]
  },
  {
   "cell_type": "code",
   "execution_count": 56,
   "metadata": {},
   "outputs": [
    {
     "name": "stdout",
     "output_type": "stream",
     "text": [
      "[[223879  30916]\n",
      " [  6989  38066]]\n"
     ]
    }
   ],
   "source": [
    "confusion_matrix = confusion_matrix(y_test, y_pred_modified_threshold_v1)\n",
    "print(confusion_matrix)"
   ]
  },
  {
   "cell_type": "code",
   "execution_count": 57,
   "metadata": {},
   "outputs": [
    {
     "name": "stdout",
     "output_type": "stream",
     "text": [
      "             precision    recall  f1-score   support\n",
      "\n",
      "          0       0.97      0.88      0.92    254795\n",
      "          1       0.55      0.84      0.67     45055\n",
      "\n",
      "avg / total       0.91      0.87      0.88    299850\n",
      "\n"
     ]
    }
   ],
   "source": [
    "print(classification_report(y_test, y_pred_modified_threshold_v1))"
   ]
  },
  {
   "cell_type": "markdown",
   "metadata": {},
   "source": [
    "## Case-2: Tuning threshold to focus on optimal Recall and Precision"
   ]
  },
  {
   "cell_type": "code",
   "execution_count": 58,
   "metadata": {},
   "outputs": [
    {
     "name": "stdout",
     "output_type": "stream",
     "text": [
      "Accuracy: 0.914647323662\n",
      "Recall: 0.710132060815\n",
      "Precision: 0.718536651096\n"
     ]
    }
   ],
   "source": [
    "y_pred_modified_threshold_v2=(logreg.predict_proba(X_test)[:,1] >=0.75).astype(bool)\n",
    "print(\"Accuracy:\",metrics.accuracy_score(y_test,y_pred_modified_threshold_v2))\n",
    "print(\"Recall:\",metrics.recall_score(y_test,y_pred_modified_threshold_v2))\n",
    "print(\"Precision:\",metrics.precision_score(y_test,y_pred_modified_threshold_v2))"
   ]
  },
  {
   "cell_type": "code",
   "execution_count": 60,
   "metadata": {},
   "outputs": [
    {
     "name": "stdout",
     "output_type": "stream",
     "text": [
      "[[242262  12533]\n",
      " [ 13060  31995]]\n"
     ]
    }
   ],
   "source": [
    "confusion_matrix = confusion_matrix(y_test, y_pred_modified_threshold_v2)\n",
    "print(confusion_matrix)"
   ]
  },
  {
   "cell_type": "code",
   "execution_count": 61,
   "metadata": {},
   "outputs": [
    {
     "name": "stdout",
     "output_type": "stream",
     "text": [
      "             precision    recall  f1-score   support\n",
      "\n",
      "          0       0.95      0.95      0.95    254795\n",
      "          1       0.72      0.71      0.71     45055\n",
      "\n",
      "avg / total       0.91      0.91      0.91    299850\n",
      "\n"
     ]
    }
   ],
   "source": [
    "from sklearn.metrics import classification_report\n",
    "print(classification_report(y_test, y_pred_modified_threshold_v2))"
   ]
  },
  {
   "cell_type": "markdown",
   "metadata": {},
   "source": [
    "## Case-3: Tuning threshold to focus on high Precision"
   ]
  },
  {
   "cell_type": "code",
   "execution_count": 62,
   "metadata": {},
   "outputs": [
    {
     "name": "stdout",
     "output_type": "stream",
     "text": [
      "Accuracy: 0.922694680674\n",
      "Recall: 0.625546554212\n",
      "Precision: 0.817093323283\n"
     ]
    }
   ],
   "source": [
    "y_pred_modified_threshold_v3=(logreg.predict_proba(X_test)[:,1] >=0.85).astype(bool)\n",
    "print(\"Accuracy:\",metrics.accuracy_score(y_test,y_pred_modified_threshold_v3))\n",
    "print(\"Recall:\",metrics.recall_score(y_test,y_pred_modified_threshold_v3))\n",
    "print(\"Precision:\",metrics.precision_score(y_test,y_pred_modified_threshold_v3))"
   ]
  },
  {
   "cell_type": "code",
   "execution_count": 64,
   "metadata": {},
   "outputs": [
    {
     "name": "stdout",
     "output_type": "stream",
     "text": [
      "[[248486   6309]\n",
      " [ 16871  28184]]\n"
     ]
    }
   ],
   "source": [
    "from sklearn.metrics import confusion_matrix\n",
    "confusion_matrix = confusion_matrix(y_test, y_pred_modified_threshold_v3)\n",
    "print(confusion_matrix)"
   ]
  },
  {
   "cell_type": "code",
   "execution_count": 65,
   "metadata": {},
   "outputs": [
    {
     "name": "stdout",
     "output_type": "stream",
     "text": [
      "             precision    recall  f1-score   support\n",
      "\n",
      "          0       0.94      0.98      0.96    254795\n",
      "          1       0.82      0.63      0.71     45055\n",
      "\n",
      "avg / total       0.92      0.92      0.92    299850\n",
      "\n"
     ]
    }
   ],
   "source": [
    "from sklearn.metrics import classification_report\n",
    "print(classification_report(y_test, y_pred_modified_threshold_v3))"
   ]
  },
  {
   "cell_type": "markdown",
   "metadata": {},
   "source": [
    "##  Strategy - Threshold Selection"
   ]
  },
  {
   "cell_type": "markdown",
   "metadata": {},
   "source": [
    "* In order to prioritize the objective of identifying the best customers, Recall rate is prioritized and therefore, thereshold used in Case-1 is considered for scoring the population"
   ]
  },
  {
   "cell_type": "markdown",
   "metadata": {},
   "source": [
    "## Creating Scoring Data"
   ]
  },
  {
   "cell_type": "code",
   "execution_count": 66,
   "metadata": {
    "collapsed": true
   },
   "outputs": [],
   "source": [
    "y_pred_with_finalized_threshold = (logreg.predict_proba(X)[:,1] >=0.49)\n",
    "y_pred_finalized = y_pred_with_finalized_threshold.astype(int)\n",
    "y_prob_finalized = logreg.predict_proba(X)[:,1]"
   ]
  },
  {
   "cell_type": "code",
   "execution_count": 67,
   "metadata": {},
   "outputs": [
    {
     "data": {
      "text/plain": [
       "(999500, 6)"
      ]
     },
     "execution_count": 67,
     "metadata": {},
     "output_type": "execute_result"
    }
   ],
   "source": [
    "X.shape"
   ]
  },
  {
   "cell_type": "code",
   "execution_count": 68,
   "metadata": {},
   "outputs": [
    {
     "data": {
      "text/plain": [
       "(999500,)"
      ]
     },
     "execution_count": 68,
     "metadata": {},
     "output_type": "execute_result"
    }
   ],
   "source": [
    "y_pred_with_finalized_threshold.shape"
   ]
  },
  {
   "cell_type": "code",
   "execution_count": 69,
   "metadata": {},
   "outputs": [
    {
     "data": {
      "text/plain": [
       "(999500,)"
      ]
     },
     "execution_count": 69,
     "metadata": {},
     "output_type": "execute_result"
    }
   ],
   "source": [
    "y_pred_finalized.shape"
   ]
  },
  {
   "cell_type": "code",
   "execution_count": 70,
   "metadata": {},
   "outputs": [
    {
     "data": {
      "text/plain": [
       "(999500,)"
      ]
     },
     "execution_count": 70,
     "metadata": {},
     "output_type": "execute_result"
    }
   ],
   "source": [
    "y_prob_finalized.shape"
   ]
  },
  {
   "cell_type": "code",
   "execution_count": 71,
   "metadata": {
    "collapsed": true
   },
   "outputs": [],
   "source": [
    "Scores = pd.DataFrame()\n",
    "# anon_person_id | target | prediction | probability |\n",
    "Scores['anon_person_id']=ds_practical_data_feature_transformed['anon_person_id']\n",
    "Scores['target']=ds_practical_data_feature_transformed['target']\n",
    "Scores['prediction']=y_pred_finalized\n",
    "Scores['probability']=y_prob_finalized"
   ]
  },
  {
   "cell_type": "code",
   "execution_count": 72,
   "metadata": {},
   "outputs": [
    {
     "data": {
      "text/html": [
       "<div>\n",
       "<style>\n",
       "    .dataframe thead tr:only-child th {\n",
       "        text-align: right;\n",
       "    }\n",
       "\n",
       "    .dataframe thead th {\n",
       "        text-align: left;\n",
       "    }\n",
       "\n",
       "    .dataframe tbody tr th {\n",
       "        vertical-align: top;\n",
       "    }\n",
       "</style>\n",
       "<table border=\"1\" class=\"dataframe\">\n",
       "  <thead>\n",
       "    <tr style=\"text-align: right;\">\n",
       "      <th></th>\n",
       "      <th>anon_person_id</th>\n",
       "      <th>target</th>\n",
       "      <th>prediction</th>\n",
       "      <th>probability</th>\n",
       "    </tr>\n",
       "  </thead>\n",
       "  <tbody>\n",
       "    <tr>\n",
       "      <th>0</th>\n",
       "      <td>1</td>\n",
       "      <td>0</td>\n",
       "      <td>0</td>\n",
       "      <td>0.486447</td>\n",
       "    </tr>\n",
       "    <tr>\n",
       "      <th>1</th>\n",
       "      <td>2</td>\n",
       "      <td>0</td>\n",
       "      <td>0</td>\n",
       "      <td>0.013850</td>\n",
       "    </tr>\n",
       "    <tr>\n",
       "      <th>2</th>\n",
       "      <td>3</td>\n",
       "      <td>1</td>\n",
       "      <td>1</td>\n",
       "      <td>0.982533</td>\n",
       "    </tr>\n",
       "    <tr>\n",
       "      <th>3</th>\n",
       "      <td>4</td>\n",
       "      <td>0</td>\n",
       "      <td>1</td>\n",
       "      <td>0.824294</td>\n",
       "    </tr>\n",
       "    <tr>\n",
       "      <th>4</th>\n",
       "      <td>5</td>\n",
       "      <td>0</td>\n",
       "      <td>0</td>\n",
       "      <td>0.132053</td>\n",
       "    </tr>\n",
       "  </tbody>\n",
       "</table>\n",
       "</div>"
      ],
      "text/plain": [
       "   anon_person_id  target  prediction  probability\n",
       "0               1       0           0     0.486447\n",
       "1               2       0           0     0.013850\n",
       "2               3       1           1     0.982533\n",
       "3               4       0           1     0.824294\n",
       "4               5       0           0     0.132053"
      ]
     },
     "execution_count": 72,
     "metadata": {},
     "output_type": "execute_result"
    }
   ],
   "source": [
    "Scores.head(5)"
   ]
  },
  {
   "cell_type": "code",
   "execution_count": 73,
   "metadata": {},
   "outputs": [
    {
     "name": "stdout",
     "output_type": "stream",
     "text": [
      "1    22.876238\n",
      "0    77.123762\n",
      "Name: prediction, dtype: float64\n"
     ]
    }
   ],
   "source": [
    "print(Scores['prediction'].value_counts(ascending=True, normalize=True, dropna=False)*100)"
   ]
  },
  {
   "cell_type": "code",
   "execution_count": 74,
   "metadata": {},
   "outputs": [
    {
     "name": "stdout",
     "output_type": "stream",
     "text": [
      "1    14.974087\n",
      "0    85.025913\n",
      "Name: target, dtype: float64\n"
     ]
    }
   ],
   "source": [
    "print(Scores['target'].value_counts(ascending=True, normalize=True, dropna=False)*100)"
   ]
  },
  {
   "cell_type": "code",
   "execution_count": 75,
   "metadata": {
    "collapsed": true
   },
   "outputs": [],
   "source": [
    "Scores.to_csv (r'Scores.csv', index = False, header=True)"
   ]
  },
  {
   "cell_type": "markdown",
   "metadata": {},
   "source": [
    "## Using probability deciles to arrive at best populations to target\n",
    "* Top deciles are desinged to have the best conversion rates; Therefore, the top most deciles should be prioritized for audience selection"
   ]
  },
  {
   "cell_type": "code",
   "execution_count": 101,
   "metadata": {},
   "outputs": [
    {
     "data": {
      "text/html": [
       "<div>\n",
       "<style>\n",
       "    .dataframe thead tr:only-child th {\n",
       "        text-align: right;\n",
       "    }\n",
       "\n",
       "    .dataframe thead th {\n",
       "        text-align: left;\n",
       "    }\n",
       "\n",
       "    .dataframe tbody tr th {\n",
       "        vertical-align: top;\n",
       "    }\n",
       "</style>\n",
       "<table border=\"1\" class=\"dataframe\">\n",
       "  <thead>\n",
       "    <tr style=\"text-align: right;\">\n",
       "      <th></th>\n",
       "      <th>max_prob</th>\n",
       "      <th>min_prob</th>\n",
       "      <th>target</th>\n",
       "      <th>pop_size</th>\n",
       "    </tr>\n",
       "    <tr>\n",
       "      <th>decile</th>\n",
       "      <th></th>\n",
       "      <th></th>\n",
       "      <th></th>\n",
       "      <th></th>\n",
       "    </tr>\n",
       "  </thead>\n",
       "  <tbody>\n",
       "    <tr>\n",
       "      <th>0</th>\n",
       "      <td>0.999320</td>\n",
       "      <td>0.917956</td>\n",
       "      <td>86132</td>\n",
       "      <td>100242</td>\n",
       "    </tr>\n",
       "    <tr>\n",
       "      <th>1</th>\n",
       "      <td>0.917856</td>\n",
       "      <td>0.607704</td>\n",
       "      <td>36621</td>\n",
       "      <td>99908</td>\n",
       "    </tr>\n",
       "    <tr>\n",
       "      <th>2</th>\n",
       "      <td>0.607388</td>\n",
       "      <td>0.334760</td>\n",
       "      <td>12640</td>\n",
       "      <td>99821</td>\n",
       "    </tr>\n",
       "    <tr>\n",
       "      <th>3</th>\n",
       "      <td>0.334756</td>\n",
       "      <td>0.181295</td>\n",
       "      <td>4133</td>\n",
       "      <td>101088</td>\n",
       "    </tr>\n",
       "    <tr>\n",
       "      <th>4</th>\n",
       "      <td>0.180771</td>\n",
       "      <td>0.154104</td>\n",
       "      <td>5144</td>\n",
       "      <td>100995</td>\n",
       "    </tr>\n",
       "    <tr>\n",
       "      <th>5</th>\n",
       "      <td>0.153643</td>\n",
       "      <td>0.114411</td>\n",
       "      <td>2297</td>\n",
       "      <td>109847</td>\n",
       "    </tr>\n",
       "    <tr>\n",
       "      <th>6</th>\n",
       "      <td>0.114247</td>\n",
       "      <td>0.035412</td>\n",
       "      <td>1191</td>\n",
       "      <td>88693</td>\n",
       "    </tr>\n",
       "    <tr>\n",
       "      <th>7</th>\n",
       "      <td>0.034902</td>\n",
       "      <td>0.026859</td>\n",
       "      <td>833</td>\n",
       "      <td>186459</td>\n",
       "    </tr>\n",
       "    <tr>\n",
       "      <th>8</th>\n",
       "      <td>0.026470</td>\n",
       "      <td>0.025334</td>\n",
       "      <td>407</td>\n",
       "      <td>16112</td>\n",
       "    </tr>\n",
       "    <tr>\n",
       "      <th>9</th>\n",
       "      <td>0.024966</td>\n",
       "      <td>0.012121</td>\n",
       "      <td>268</td>\n",
       "      <td>96335</td>\n",
       "    </tr>\n",
       "  </tbody>\n",
       "</table>\n",
       "</div>"
      ],
      "text/plain": [
       "        max_prob  min_prob  target  pop_size\n",
       "decile                                      \n",
       "0       0.999320  0.917956   86132    100242\n",
       "1       0.917856  0.607704   36621     99908\n",
       "2       0.607388  0.334760   12640     99821\n",
       "3       0.334756  0.181295    4133    101088\n",
       "4       0.180771  0.154104    5144    100995\n",
       "5       0.153643  0.114411    2297    109847\n",
       "6       0.114247  0.035412    1191     88693\n",
       "7       0.034902  0.026859     833    186459\n",
       "8       0.026470  0.025334     407     16112\n",
       "9       0.024966  0.012121     268     96335"
      ]
     },
     "execution_count": 101,
     "metadata": {},
     "output_type": "execute_result"
    }
   ],
   "source": [
    "y_prob_class_zero = logreg.predict_proba(X)[:,0]\n",
    "Scores_target_audience = pd.DataFrame()\n",
    "Scores_target_audience['decile']=pd.qcut(y_prob_class_zero,10,labels=False)\n",
    "Scores_target_audience['max_prob']=Scores['probability']\n",
    "Scores_target_audience['min_prob']=Scores['probability']\n",
    "Scores_target_audience['target']=Scores['target']\n",
    "Scores_target_audience['pop_size']=Scores['probability']\n",
    "Scores_target_audience_grouped = Scores_target_audience.groupby('decile').agg({'max_prob':'max','min_prob':'min','target':'sum','pop_size':'count'})\n",
    "Scores_target_audience_grouped"
   ]
  },
  {
   "cell_type": "markdown",
   "metadata": {},
   "source": [
    "## Verifying trends with predicted & target for major variables"
   ]
  },
  {
   "cell_type": "code",
   "execution_count": 110,
   "metadata": {},
   "outputs": [
    {
     "data": {
      "text/html": [
       "<div>\n",
       "<style>\n",
       "    .dataframe thead tr:only-child th {\n",
       "        text-align: right;\n",
       "    }\n",
       "\n",
       "    .dataframe thead th {\n",
       "        text-align: left;\n",
       "    }\n",
       "\n",
       "    .dataframe tbody tr th {\n",
       "        vertical-align: top;\n",
       "    }\n",
       "</style>\n",
       "<table border=\"1\" class=\"dataframe\">\n",
       "  <thead>\n",
       "    <tr style=\"text-align: right;\">\n",
       "      <th></th>\n",
       "      <th>target</th>\n",
       "      <th>age</th>\n",
       "      <th>gender</th>\n",
       "      <th>presence_of_child_ind</th>\n",
       "      <th>number_of_news_subs</th>\n",
       "      <th>marital_status_M</th>\n",
       "      <th>streaming_media_subs</th>\n",
       "      <th>marital_status_S</th>\n",
       "    </tr>\n",
       "  </thead>\n",
       "  <tbody>\n",
       "    <tr>\n",
       "      <th>0</th>\n",
       "      <td>0</td>\n",
       "      <td>43.0</td>\n",
       "      <td>0</td>\n",
       "      <td>0</td>\n",
       "      <td>0</td>\n",
       "      <td>1</td>\n",
       "      <td>0</td>\n",
       "      <td>0</td>\n",
       "    </tr>\n",
       "    <tr>\n",
       "      <th>1</th>\n",
       "      <td>0</td>\n",
       "      <td>90.0</td>\n",
       "      <td>1</td>\n",
       "      <td>0</td>\n",
       "      <td>0</td>\n",
       "      <td>0</td>\n",
       "      <td>0</td>\n",
       "      <td>0</td>\n",
       "    </tr>\n",
       "  </tbody>\n",
       "</table>\n",
       "</div>"
      ],
      "text/plain": [
       "   target   age  gender  presence_of_child_ind  number_of_news_subs  \\\n",
       "0       0  43.0       0                      0                    0   \n",
       "1       0  90.0       1                      0                    0   \n",
       "\n",
       "   marital_status_M  streaming_media_subs  marital_status_S  \n",
       "0                 1                     0                 0  \n",
       "1                 0                     0                 0  "
      ]
     },
     "execution_count": 110,
     "metadata": {},
     "output_type": "execute_result"
    }
   ],
   "source": [
    "ds_practical_data_feature_selected.head(2)"
   ]
  },
  {
   "cell_type": "code",
   "execution_count": 111,
   "metadata": {},
   "outputs": [
    {
     "data": {
      "image/png": "[encoded data removed]",
      "text/plain": [
       "<matplotlib.figure.Figure at 0x1da15442b00>"
      ]
     },
     "metadata": {},
     "output_type": "display_data"
    }
   ],
   "source": [
    "corr_df=ds_practical_data_feature_selected[ds_practical_data_feature_selected.columns.drop('number_of_news_subs')].corr(method='pearson')\n",
    "# Creating a mask to display only the lower triangle of the matrix\n",
    "mask=np.zeros_like(corr_df)\n",
    "mask[np.triu_indices_from(mask)]=True\n",
    "sns.heatmap(corr_df,cmap='BrBG',vmax=1.0,vmin=-1.0,mask=mask, linewidths=2.5,annot=True)\n",
    "# Reorienting the labels to better represent the chart\n",
    "plt.rcParams['figure.figsize'] = [12, 14]\n",
    "plt.yticks(rotation=0)\n",
    "plt.xticks(rotation=90)\n",
    "plt.show()"
   ]
  },
  {
   "cell_type": "code",
   "execution_count": 102,
   "metadata": {},
   "outputs": [],
   "source": [
    "ds_practical_data_feature_transformed['prediction'] = (logreg.predict_proba(X)[:,1] >=0.49)"
   ]
  },
  {
   "cell_type": "code",
   "execution_count": 103,
   "metadata": {},
   "outputs": [
    {
     "name": "stdout",
     "output_type": "stream",
     "text": [
      "prediction           False     True \n",
      "marital_status_S                    \n",
      "0                 0.799420  0.200580\n",
      "1                 0.229934  0.770066\n",
      "-------------------------------------\n",
      "target                   0         1\n",
      "marital_status_S                    \n",
      "0                 0.874440  0.125560\n",
      "1                 0.385811  0.614189\n"
     ]
    }
   ],
   "source": [
    "print(pd.crosstab(ds_practical_data_feature_transformed.marital_status_S, ds_practical_data_feature_transformed.prediction, normalize='index'))\n",
    "print('-------------------------------------')\n",
    "print(pd.crosstab(ds_practical_data_feature_transformed.marital_status_S, ds_practical_data_feature_transformed.target, normalize='index'))"
   ]
  },
  {
   "cell_type": "code",
   "execution_count": 104,
   "metadata": {},
   "outputs": [
    {
     "name": "stdout",
     "output_type": "stream",
     "text": [
      "prediction           False     True \n",
      "marital_status_M                    \n",
      "0                 0.844726  0.155274\n",
      "1                 0.591832  0.408168\n",
      "-------------------------------------\n",
      "target                   0         1\n",
      "marital_status_M                    \n",
      "0                 0.893001  0.106999\n",
      "1                 0.745913  0.254087\n"
     ]
    }
   ],
   "source": [
    "print(pd.crosstab(ds_practical_data_feature_transformed.marital_status_M, ds_practical_data_feature_transformed.prediction, normalize='index'))\n",
    "print('-------------------------------------')\n",
    "print(pd.crosstab(ds_practical_data_feature_transformed.marital_status_M, ds_practical_data_feature_transformed.target, normalize='index'))"
   ]
  },
  {
   "cell_type": "code",
   "execution_count": 105,
   "metadata": {},
   "outputs": [
    {
     "name": "stdout",
     "output_type": "stream",
     "text": [
      "prediction                False     True \n",
      "presence_of_child_ind                    \n",
      "0                      0.870414  0.129586\n",
      "1                      0.184971  0.815029\n",
      "-------------------------------------\n",
      "target                        0         1\n",
      "presence_of_child_ind                    \n",
      "0                      0.924525  0.075475\n",
      "1                      0.411245  0.588755\n"
     ]
    }
   ],
   "source": [
    "print(pd.crosstab(ds_practical_data_feature_transformed.presence_of_child_ind, ds_practical_data_feature_transformed.prediction, normalize='index'))\n",
    "print('-------------------------------------')\n",
    "print(pd.crosstab(ds_practical_data_feature_transformed.presence_of_child_ind, ds_practical_data_feature_transformed.target, normalize='index'))"
   ]
  },
  {
   "cell_type": "code",
   "execution_count": 106,
   "metadata": {},
   "outputs": [
    {
     "name": "stdout",
     "output_type": "stream",
     "text": [
      "prediction     False     True \n",
      "gender                        \n",
      "0           0.573408  0.426592\n",
      "1           0.917690  0.082310\n",
      "-------------------------------------\n",
      "target         0         1\n",
      "gender                    \n",
      "0       0.719017  0.280983\n",
      "1       0.947417  0.052583\n"
     ]
    }
   ],
   "source": [
    "print(pd.crosstab(ds_practical_data_feature_transformed.gender, ds_practical_data_feature_transformed.prediction, normalize='index'))\n",
    "print('-------------------------------------')\n",
    "print(pd.crosstab(ds_practical_data_feature_transformed.gender, ds_practical_data_feature_transformed.target, normalize='index'))"
   ]
  },
  {
   "cell_type": "code",
   "execution_count": 107,
   "metadata": {},
   "outputs": [
    {
     "name": "stdout",
     "output_type": "stream",
     "text": [
      "prediction               False     True \n",
      "streaming_media_subs                    \n",
      "0                     0.885262  0.114738\n",
      "1                     0.228802  0.771198\n",
      "-------------------------------------\n",
      "target                       0         1\n",
      "streaming_media_subs                    \n",
      "0                     0.925755  0.074245\n",
      "1                     0.491109  0.508891\n"
     ]
    }
   ],
   "source": [
    "print(pd.crosstab(ds_practical_data_feature_transformed.streaming_media_subs, ds_practical_data_feature_transformed.prediction, normalize='index'))\n",
    "print('-------------------------------------')\n",
    "print(pd.crosstab(ds_practical_data_feature_transformed.streaming_media_subs, ds_practical_data_feature_transformed.target, normalize='index'))"
   ]
  },
  {
   "cell_type": "markdown",
   "metadata": {},
   "source": [
    "## Creating pickle files"
   ]
  },
  {
   "cell_type": "code",
   "execution_count": 108,
   "metadata": {
    "collapsed": true
   },
   "outputs": [],
   "source": [
    "import pickle\n",
    "model_name = 'ds_pa_logreg.pkl'\n",
    "pickle.dump(logreg, open(model_name,'wb'))"
   ]
  },
  {
   "cell_type": "code",
   "execution_count": null,
   "metadata": {
    "collapsed": true
   },
   "outputs": [],
   "source": []
  }
 ],
 "metadata": {
  "kernelspec": {
   "display_name": "Python 3",
   "language": "python",
   "name": "python3"
  },
  "language_info": {
   "codemirror_mode": {
    "name": "ipython",
    "version": 3
   },
   "file_extension": ".py",
   "mimetype": "text/x-python",
   "name": "python",
   "nbconvert_exporter": "python",
   "pygments_lexer": "ipython3",
   "version": "3.6.3"
  }
 },
 "nbformat": 4,
 "nbformat_minor": 5
}
